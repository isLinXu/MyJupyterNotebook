{
 "cells": [
  {
   "cell_type": "markdown",
   "metadata": {
    "collapsed": true
   },
   "source": [
    "## Linear Regression:\n",
    "\n",
    "<img src=\"https://github.com/iAmKankan/MachineLearning_With_Python/blob/master/1.jpeg?raw=true\">\n",
    "\n",
    "\n",
    "* X axis is Independent Variable \n",
    "* Y axis is Dependent Variable\n",
    "* We are trying to draw a relationshp between the two variables by draw a line (in Linear Regrassion is a straight line).\n",
    "\n",
    "\n",
    "### Dependencies Between two variebles:\n",
    "* If Independent Variable increases and Dependent Variable increases we say a positive relationship.\n",
    "* If Independent Variable increases and Dependent Variable decreases we say a negetive relationship.\n",
    "\n",
    "\n",
    "<img src=\"https://github.com/iAmKankan/MachineLearning_With_Python/blob/master/2nd.png?raw=true\">\n",
    "\n",
    "\n",
    "\n",
    "\n",
    "\n",
    "### Example:\n",
    "It is used to estimate real values (cost of houses, number of calls, total sales etc.) based on continuous variable(s). Here, we establish relationship between independent and dependent variables by fitting a best line. This best fit line is known as regression line and represented by a linear equation Y= a *X + b.\n",
    "\n",
    "The best way to understand linear regression is to relive this experience of childhood. Let us say, you ask a child in fifth grade to arrange people in his class by increasing order of weight, without asking them their weights! What do you think the child will do? He / she would likely look (visually analyze) at the height and build of people and arrange them using a combination of these visible parameters. This is linear regression in real life! The child has actually figured out that height and build would be correlated to the weight by a relationship, which looks like the equation above.\n",
    "\n",
    "In this equation:\n",
    "```\n",
    "    Y – Dependent Variable\n",
    "    a – Slope\n",
    "    X – Independent variable\n",
    "    b – Intercept(of y axis)\n",
    "```\n",
    "These coefficients a and b are derived based on minimizing the sum of squared difference of distance between data points and regression line.\n",
    "\n",
    "Look at the below example. Here we have identified the best fit line having linear equation **y=0.2811x+13.9**. Now using this equation, we can find the weight, knowing the height of a person.\n",
    "\n",
    "\n",
    "<img src=\"https://github.com/iAmKankan/MachineLearning_With_Python/blob/master/L3.png?raw=true\">\n",
    "\n",
    "\n",
    "\n",
    "Linear Regression is of mainly two types: \n",
    "* Simple Linear Regression :Simple Linear Regression is characterized by one independent variable\n",
    "* Multiple Linear Regression: And, Multiple Linear Regression(as the name suggests) is characterized by multiple (more than 1) independent variables. \n",
    "\n",
    "\n",
    "While finding best fit line, you can fit a polynomial or curvilinear regression. And these are known as polynomial or curvilinear regression.\n",
    "\n",
    "\n",
    "\n",
    "\n",
    "\n",
    "\n",
    "\n",
    "\n"
   ]
  },
  {
   "cell_type": "code",
   "execution_count": null,
   "metadata": {
    "collapsed": true
   },
   "outputs": [],
   "source": []
  }
 ],
 "metadata": {
  "kernelspec": {
   "display_name": "Python 3",
   "language": "python",
   "name": "python3"
  },
  "language_info": {
   "codemirror_mode": {
    "name": "ipython",
    "version": 3
   },
   "file_extension": ".py",
   "mimetype": "text/x-python",
   "name": "python",
   "nbconvert_exporter": "python",
   "pygments_lexer": "ipython3",
   "version": "3.6.3"
  }
 },
 "nbformat": 4,
 "nbformat_minor": 2
}
