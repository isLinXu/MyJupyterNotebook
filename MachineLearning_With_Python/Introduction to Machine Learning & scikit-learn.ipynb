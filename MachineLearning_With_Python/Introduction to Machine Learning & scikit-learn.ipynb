{
 "cells": [
  {
   "cell_type": "markdown",
   "metadata": {},
   "source": [
    "#### Agenda\n",
    "* What is Machine Learning \n",
    "* Types of machine learning \n",
    "* Examples of Machine Learning\n",
    "* Machine Learning Application Flow"
   ]
  },
  {
   "cell_type": "markdown",
   "metadata": {},
   "source": [
    "### Machine Learning\n",
    "* Traditional softwares are rules based. As the data becomes complex, we need to keep adding rules. Machine Learning applications are those which can generate complex logic based on input data.This generated complex logic - \n",
    "  - might answer a question, \n",
    "  - might give some insight about data,\n",
    "  - might augment in decision making"
   ]
  },
  {
   "cell_type": "markdown",
   "metadata": {},
   "source": [
    "### Types of Machine Learning\n",
    "* #### Supervised Machine Learning\n",
    "  - Training machine learning application using data examples( feature data & target data ).\n",
    "  - Building logic during training\n",
    "  - Using logic predicting target data using feature data\n",
    "  - Example1 - House Price Prediction  \n",
    "    Feature Data ( Sqft, Bedrooms, Bathrooms ) & Target Data ( Price ). For training of machine learning applcation, feature data & target data both are supplied. Target Data is predicted after training is done.\n",
    "\n",
    "* #### Unsupervised Machine Learning \n",
    "  - There is no target data here.\n",
    "  - Structure of data is obtained using this category of machine learning algorithms.\n",
    "  - Usually useful in understanding dataset\n",
    "  - Example1 - Customer segementation\n",
    "    Given all customer details, finding n-groups the entire customers can be clustered into. "
   ]
  },
  {
   "cell_type": "markdown",
   "metadata": {},
   "source": [
    "### Supervised Machine Learning\n",
    "#### Regression\n",
    "* Target information is continues in nature\n",
    "* Example - House Price, target is price ( which is continues )\n",
    "* Algorithms - Linear Regression, Polynomial Regression, Ridge regression, RandomForestRegressor etc.\n",
    "\n",
    "#### Classification\n",
    "* Target information is discrete in nature\n",
    "* Example - Employee Exit Prediction, target is yes or no\n",
    "* Algorithms - Logistic Regression, Naive bayes, Decision Tree, k-nearest neighbours, Random Forest etc.\n"
   ]
  },
  {
   "cell_type": "markdown",
   "metadata": {},
   "source": [
    "### UnSupervised Machine Learning\n",
    "#### Clustering\n",
    "* Discover groups in dataset\n",
    "* Example - Grouping customers for targetted marketting\n",
    "* Algorithms - kmeans\n",
    "\n",
    "#### Association\n",
    "* Rule learning\n",
    "* Example - People who buy diaper also tends to buy beer\n",
    "* Algorithm - Apriori"
   ]
  },
  {
   "cell_type": "markdown",
   "metadata": {},
   "source": [
    "### Approach to solve Machine Learning Problems\n",
    "\n",
    "<img src=\"https://github.com/zekelabs/machine-learning-for-beginners/blob/master/ml-final.png.jpg?raw=true\">\n"
   ]
  },
  {
   "cell_type": "markdown",
   "metadata": {},
   "source": [
    "### Introduction to scikit-learn\n",
    "* Open source of machine learning library using Python\n",
    "* Consistent interface\n",
    "* Extensive documentation"
   ]
  },
  {
   "cell_type": "markdown",
   "metadata": {},
   "source": [
    "### Understanding scikit-learn API\n",
    "\n",
    "#### Preprocessing - Convert Data (String,Text) from one format to another\n",
    "* fit\n",
    "* transform\n",
    "* fit_transform\n",
    "\n",
    "#### Data splitting\n",
    "* train_test_split\n",
    "* cross_validation\n",
    "\n",
    "#### Training\n",
    "* fit\n",
    "* grid_search\n",
    "\n",
    "#### Model Validation\n",
    "* Regression - r2_scrore, mean_square\n",
    "\n",
    "* Classification - accuracy_score, confusion_matrix\n",
    "\n",
    "#### Predict\n",
    "* predict"
   ]
  },
  {
   "cell_type": "markdown",
   "metadata": {
    "collapsed": true
   },
   "source": [
    "<img src=\"http://scikit-learn.org/stable/_static/ml_map.png\">"
   ]
  },
  {
   "cell_type": "code",
   "execution_count": null,
   "metadata": {
    "collapsed": true
   },
   "outputs": [],
   "source": []
  }
 ],
 "metadata": {
  "kernelspec": {
   "display_name": "Python 3",
   "language": "python",
   "name": "python3"
  },
  "language_info": {
   "codemirror_mode": {
    "name": "ipython",
    "version": 3
   },
   "file_extension": ".py",
   "mimetype": "text/x-python",
   "name": "python",
   "nbconvert_exporter": "python",
   "pygments_lexer": "ipython3",
   "version": "3.6.7"
  }
 },
 "nbformat": 4,
 "nbformat_minor": 2
}
