{
 "cells": [
  {
   "cell_type": "code",
   "execution_count": 1,
   "metadata": {
    "colab": {},
    "colab_type": "code",
    "executionInfo": {
     "elapsed": 1889,
     "status": "ok",
     "timestamp": 1600704570149,
     "user": {
      "displayName": "ChingI Lee",
      "photoUrl": "https://lh3.googleusercontent.com/a-/AOh14GgDdMJrUbQatXDhq6lGSnmXrmVgJ5j16hylgay6-zE=s64",
      "userId": "03381739445029229035"
     },
     "user_tz": -480
    },
    "id": "RPMyPuRu0pbc"
   },
   "outputs": [],
   "source": [
    "import torch\n",
    "import torch.nn as nn\n",
    "import torch.nn.functional as F\n",
    "import torch.optim as optim\n",
    "from torch.utils.data import DataLoader\n",
    "from torch.autograd import Variable\n",
    "from torchvision import datasets, transforms\n",
    "import matplotlib.pyplot as plt"
   ]
  },
  {
   "cell_type": "code",
   "execution_count": 2,
   "metadata": {
    "colab": {
     "base_uri": "https://localhost:8080/",
     "height": 34
    },
    "colab_type": "code",
    "executionInfo": {
     "elapsed": 1464,
     "status": "ok",
     "timestamp": 1600704570521,
     "user": {
      "displayName": "ChingI Lee",
      "photoUrl": "https://lh3.googleusercontent.com/a-/AOh14GgDdMJrUbQatXDhq6lGSnmXrmVgJ5j16hylgay6-zE=s64",
      "userId": "03381739445029229035"
     },
     "user_tz": -480
    },
    "id": "TxkuvrEvrTpV",
    "outputId": "1da0e137-a16e-4e34-e027-d5fc938a5be5"
   },
   "outputs": [
    {
     "name": "stdout",
     "output_type": "stream",
     "text": [
      "cuda\n"
     ]
    }
   ],
   "source": [
    "CUDA = torch.cuda.is_available()\n",
    "device = torch.device(\"cuda\" if CUDA else \"cpu\")\n",
    "print(device)"
   ]
  },
  {
   "cell_type": "code",
   "execution_count": 3,
   "metadata": {
    "colab": {},
    "colab_type": "code",
    "executionInfo": {
     "elapsed": 855,
     "status": "ok",
     "timestamp": 1600704570904,
     "user": {
      "displayName": "ChingI Lee",
      "photoUrl": "https://lh3.googleusercontent.com/a-/AOh14GgDdMJrUbQatXDhq6lGSnmXrmVgJ5j16hylgay6-zE=s64",
      "userId": "03381739445029229035"
     },
     "user_tz": -480
    },
    "id": "sE3YAOPlmmd6"
   },
   "outputs": [],
   "source": [
    "class LeNet(nn.Module):\n",
    "    def __init__(self):\n",
    "        super(LeNet, self).__init__()\n",
    "        self.conv1 = nn.Conv2d(in_channels=1, out_channels=6, kernel_size=5, padding=2, stride=1)\n",
    "        self.conv2 = nn.Conv2d(in_channels=6, out_channels=16, kernel_size=5)\n",
    "\n",
    "        self.fc1 = nn.Linear(in_features=16*5*5, out_features=120)\n",
    "        self.fc2 = nn.Linear(in_features=120, out_features=84)\n",
    "        self.fc3 = nn.Linear(in_features=84, out_features=10)\n",
    "\n",
    "    def forward(self, x):\n",
    "        x = F.sigmoid(self.conv1(x))\n",
    "        x = F.avg_pool2d(x, kernel_size=2, stride=2)\n",
    "        x = F.sigmoid(self.conv2(x))\n",
    "        x = F.avg_pool2d(x, kernel_size=2, stride=2)\n",
    "        # x = x.view(-1, 16*5*5)\n",
    "        x = torch.flatten(x, 1)\n",
    "        x = F.sigmoid(self.fc1(x))\n",
    "        x = F.sigmoid(self.fc2(x))\n",
    "        x = self.fc3(x)\n",
    "        return x"
   ]
  },
  {
   "cell_type": "code",
   "execution_count": 4,
   "metadata": {
    "colab": {},
    "colab_type": "code",
    "executionInfo": {
     "elapsed": 4610,
     "status": "ok",
     "timestamp": 1600704576604,
     "user": {
      "displayName": "ChingI Lee",
      "photoUrl": "https://lh3.googleusercontent.com/a-/AOh14GgDdMJrUbQatXDhq6lGSnmXrmVgJ5j16hylgay6-zE=s64",
      "userId": "03381739445029229035"
     },
     "user_tz": -480
    },
    "id": "nwOhi63DxQ8O"
   },
   "outputs": [],
   "source": [
    "# Parameters\n",
    "batch_size = 256\n",
    "num_epochs = 5\n",
    "lr = 0.001\n",
    "\n",
    "model = LeNet()\n",
    "\n",
    "if CUDA:\n",
    "    model = model.cuda()\n",
    "\n",
    "optimizer = torch.optim.Adam(model.parameters(), lr=lr)\n",
    "criterion = nn.CrossEntropyLoss()"
   ]
  },
  {
   "cell_type": "code",
   "execution_count": 5,
   "metadata": {
    "colab": {},
    "colab_type": "code",
    "executionInfo": {
     "elapsed": 3534,
     "status": "ok",
     "timestamp": 1600704576607,
     "user": {
      "displayName": "ChingI Lee",
      "photoUrl": "https://lh3.googleusercontent.com/a-/AOh14GgDdMJrUbQatXDhq6lGSnmXrmVgJ5j16hylgay6-zE=s64",
      "userId": "03381739445029229035"
     },
     "user_tz": -480
    },
    "id": "GMFstrmb1E36"
   },
   "outputs": [],
   "source": [
    "# Transform\n",
    "transform = transforms.Compose(\n",
    "                [transforms.ToTensor(),\n",
    "                transforms.Normalize((0.5,), (0.5,)),]\n",
    "                )\n",
    "\n",
    "# Data\n",
    "train_dataset = datasets.MNIST(root='MNIST', download=True, train=True, transform=transform)\n",
    "valid_dataset = datasets.MNIST(root='MNIST', download=True, train=False, transform=transform)\n",
    "train_loader = DataLoader(train_dataset, batch_size=batch_size, shuffle=True)\n",
    "valid_loader = DataLoader(valid_dataset, batch_size=batch_size, shuffle=False)"
   ]
  },
  {
   "cell_type": "code",
   "execution_count": 14,
   "metadata": {
    "colab": {},
    "colab_type": "code",
    "executionInfo": {
     "elapsed": 706,
     "status": "ok",
     "timestamp": 1600705170757,
     "user": {
      "displayName": "ChingI Lee",
      "photoUrl": "https://lh3.googleusercontent.com/a-/AOh14GgDdMJrUbQatXDhq6lGSnmXrmVgJ5j16hylgay6-zE=s64",
      "userId": "03381739445029229035"
     },
     "user_tz": -480
    },
    "id": "PunirkRK1YOD"
   },
   "outputs": [],
   "source": [
    "def train(train_loader, model, criterion, optimizer, epoch):\n",
    "    model.train()\n",
    "    total_train = 0\n",
    "    correct_train = 0\n",
    "    train_loss = 0\n",
    "    \n",
    "    for batch_idx, (data, target) in enumerate(train_loader):\n",
    "        data, target = Variable(data), Variable(target) \n",
    "        \n",
    "        if CUDA:\n",
    "            data, target = data.cuda(), target.cuda()\n",
    "\n",
    "        # clear gradient\n",
    "        optimizer.zero_grad()\n",
    "\n",
    "        # Forward propagation\n",
    "        output = model(data) \n",
    "        loss = criterion(output, target) \n",
    "\n",
    "        # Calculate gradients\n",
    "        loss.backward()\n",
    "\n",
    "        # Update parameters\n",
    "        optimizer.step()\n",
    "\n",
    "        predicted = torch.max(output.data, 1)[1]\n",
    "        total_train += len(target)\n",
    "        correct_train += sum((predicted == target).float())\n",
    "        train_loss += loss.item()\n",
    "\n",
    "        # if batch_idx % 100 == 0:\n",
    "        #     print(\"Train Epoch: {}/{} [iter： {}/{}], acc： {:.6f}, loss： {:.6f}\".format(\n",
    "        #        epoch+1, num_epochs, batch_idx+1, len(train_loader),\n",
    "        #        correct_train / float((batch_idx + 1) * batch_size),\n",
    "        #        train_loss / float((batch_idx + 1) * batch_size)))\n",
    "            \n",
    "    train_acc_ = 100 * (correct_train / float(total_train))\n",
    "    train_loss_ = train_loss / total_train\n",
    "                    \n",
    "    return train_acc_, train_loss_"
   ]
  },
  {
   "cell_type": "code",
   "execution_count": 15,
   "metadata": {
    "colab": {},
    "colab_type": "code",
    "executionInfo": {
     "elapsed": 858,
     "status": "ok",
     "timestamp": 1600705173726,
     "user": {
      "displayName": "ChingI Lee",
      "photoUrl": "https://lh3.googleusercontent.com/a-/AOh14GgDdMJrUbQatXDhq6lGSnmXrmVgJ5j16hylgay6-zE=s64",
      "userId": "03381739445029229035"
     },
     "user_tz": -480
    },
    "id": "LYW3laXuPeYu"
   },
   "outputs": [],
   "source": [
    "def validate(valid_loader, model, criterion, epoch): \n",
    "    model.eval()\n",
    "    total_valid = 0\n",
    "    correct_valid = 0\n",
    "    valid_loss = 0\n",
    "    \n",
    "    for batch_idx, (data, target) in enumerate(valid_loader):\n",
    "        data, target = Variable(data), Variable(target) \n",
    "        \n",
    "        if CUDA:\n",
    "            data, target = data.cuda(), target.cuda()\n",
    "\n",
    "        # Forward propagation\n",
    "        output = model(data)\n",
    "        loss = criterion(output, target) \n",
    "\n",
    "        predicted = torch.max(output.data, 1)[1]\n",
    "        total_valid += len(target)\n",
    "        correct_valid += sum((predicted == target).float())\n",
    "        valid_loss += loss.item()\n",
    "\n",
    "        # if batch_idx % 100 == 0:\n",
    "        #     print(\"Valid Epoch: {}/{} [iter： {}/{}], acc： {:.6f}, loss： {:.6f}\".format(\n",
    "        #        epoch+1, num_epochs, batch_idx+1, len(valid_loader),\n",
    "        #        correct_valid / float((batch_idx + 1) * batch_size),\n",
    "        #        valid_loss / float((batch_idx + 1) * batch_size)))\n",
    "            \n",
    "    valid_acc_ = 100 * (correct_valid / float(total_valid))\n",
    "    valid_loss_ = valid_loss / total_valid\n",
    "                    \n",
    "    return valid_acc_, valid_loss_"
   ]
  },
  {
   "cell_type": "code",
   "execution_count": 16,
   "metadata": {
    "colab": {},
    "colab_type": "code",
    "executionInfo": {
     "elapsed": 878,
     "status": "ok",
     "timestamp": 1600705175796,
     "user": {
      "displayName": "ChingI Lee",
      "photoUrl": "https://lh3.googleusercontent.com/a-/AOh14GgDdMJrUbQatXDhq6lGSnmXrmVgJ5j16hylgay6-zE=s64",
      "userId": "03381739445029229035"
     },
     "user_tz": -480
    },
    "id": "gf7pFjWLPebk"
   },
   "outputs": [],
   "source": [
    "def training_loop(model, criterion, optimizer, train_loader, valid_loader):\n",
    "    # set objects for storing metrics\n",
    "    total_train_loss = []\n",
    "    total_valid_loss = []\n",
    "    total_train_accuracy = []\n",
    "    total_valid_accuracy = []\n",
    " \n",
    "    # Train model\n",
    "    for epoch in range(num_epochs):\n",
    "        # training\n",
    "        train_acc_, train_loss_ = train(train_loader, model, criterion, optimizer, epoch)\n",
    "        total_train_loss.append(train_loss_)\n",
    "        total_train_accuracy.append(train_acc_)\n",
    "\n",
    "        # validation\n",
    "        with torch.no_grad():\n",
    "            valid_acc_, valid_loss_ = validate(valid_loader, model, criterion, epoch)\n",
    "            total_valid_loss.append(valid_loss_)\n",
    "            total_valid_accuracy.append(valid_acc_)\n",
    "\n",
    "        print(\"Epoch: {}/{}， Train acc： {:.6f}， Train loss： {:.6f}， Valid acc： {:.6f}， Valid loss： {:.6f}\".format(\n",
    "               epoch+1, num_epochs, \n",
    "               train_acc_, train_loss_,\n",
    "               valid_acc_, valid_loss_))\n",
    "\n",
    "    print(\"====== END ==========\")\n",
    "\n",
    "    return total_train_loss, total_valid_loss, total_train_accuracy, total_valid_accuracy"
   ]
  },
  {
   "cell_type": "code",
   "execution_count": 17,
   "metadata": {
    "colab": {
     "base_uri": "https://localhost:8080/",
     "height": 153
    },
    "colab_type": "code",
    "executionInfo": {
     "elapsed": 49508,
     "status": "ok",
     "timestamp": 1600705226573,
     "user": {
      "displayName": "ChingI Lee",
      "photoUrl": "https://lh3.googleusercontent.com/a-/AOh14GgDdMJrUbQatXDhq6lGSnmXrmVgJ5j16hylgay6-zE=s64",
      "userId": "03381739445029229035"
     },
     "user_tz": -480
    },
    "id": "ixjMBk_vyFYq",
    "outputId": "886d5948-3f91-4770-c990-652fff15aaba"
   },
   "outputs": [
    {
     "name": "stderr",
     "output_type": "stream",
     "text": [
      "/usr/local/lib/python3.6/dist-packages/torch/nn/functional.py:1625: UserWarning: nn.functional.sigmoid is deprecated. Use torch.sigmoid instead.\n",
      "  warnings.warn(\"nn.functional.sigmoid is deprecated. Use torch.sigmoid instead.\")\n"
     ]
    },
    {
     "name": "stdout",
     "output_type": "stream",
     "text": [
      "Epoch: 1/5， Train acc： 96.315002， Train loss： 0.000491， Valid acc： 96.660004， Valid loss： 0.000428\n",
      "Epoch: 2/5， Train acc： 96.720001， Train loss： 0.000428， Valid acc： 97.010002， Valid loss： 0.000391\n",
      "Epoch: 3/5， Train acc： 97.061668， Train loss： 0.000384， Valid acc： 97.150002， Valid loss： 0.000349\n",
      "Epoch: 4/5， Train acc： 97.366669， Train loss： 0.000347， Valid acc： 97.559998， Valid loss： 0.000304\n",
      "Epoch: 5/5， Train acc： 97.566673， Train loss： 0.000321， Valid acc： 97.470001， Valid loss： 0.000311\n",
      "====== END ==========\n"
     ]
    }
   ],
   "source": [
    "total_train_loss, total_valid_loss, total_train_accuracy, total_valid_accuracy = training_loop(model, criterion, optimizer, train_loader, valid_loader)"
   ]
  },
  {
   "cell_type": "code",
   "execution_count": 26,
   "metadata": {
    "colab": {},
    "colab_type": "code",
    "executionInfo": {
     "elapsed": 909,
     "status": "ok",
     "timestamp": 1600705583787,
     "user": {
      "displayName": "ChingI Lee",
      "photoUrl": "https://lh3.googleusercontent.com/a-/AOh14GgDdMJrUbQatXDhq6lGSnmXrmVgJ5j16hylgay6-zE=s64",
      "userId": "03381739445029229035"
     },
     "user_tz": -480
    },
    "id": "DECXvdUEegsL"
   },
   "outputs": [],
   "source": [
    "def plot_result(total_train, total_valid, label):\n",
    "    plt.plot(range(num_epochs), total_train, 'b-', label=f'Training_{label}')\n",
    "    plt.plot(range(num_epochs), total_valid, 'g-', label=f'validation_{label}')\n",
    "    plt.title(f'Training & Validation {label}')\n",
    "    plt.xlabel('Number of epochs')\n",
    "    plt.ylabel(f'{label}')\n",
    "    plt.legend()\n",
    "    plt.show()"
   ]
  },
  {
   "cell_type": "code",
   "execution_count": 27,
   "metadata": {
    "colab": {
     "base_uri": "https://localhost:8080/",
     "height": 295
    },
    "colab_type": "code",
    "executionInfo": {
     "elapsed": 867,
     "status": "ok",
     "timestamp": 1600705584123,
     "user": {
      "displayName": "ChingI Lee",
      "photoUrl": "https://lh3.googleusercontent.com/a-/AOh14GgDdMJrUbQatXDhq6lGSnmXrmVgJ5j16hylgay6-zE=s64",
      "userId": "03381739445029229035"
     },
     "user_tz": -480
    },
    "id": "ApqSaWX8evE0",
    "outputId": "cc5dde61-7b21-4008-dcd7-53b83a1acc95"
   },
   "outputs": [
    {
     "data": {
      "image/png": "[encoded data removed]",
      "text/plain": [
       "<Figure size 432x288 with 1 Axes>"
      ]
     },
     "metadata": {
      "needs_background": "light",
      "tags": []
     },
     "output_type": "display_data"
    }
   ],
   "source": [
    "plot_result(total_train_loss, total_valid_loss, 'loss')"
   ]
  },
  {
   "cell_type": "code",
   "execution_count": 28,
   "metadata": {
    "colab": {
     "base_uri": "https://localhost:8080/",
     "height": 295
    },
    "colab_type": "code",
    "executionInfo": {
     "elapsed": 772,
     "status": "ok",
     "timestamp": 1600705612868,
     "user": {
      "displayName": "ChingI Lee",
      "photoUrl": "https://lh3.googleusercontent.com/a-/AOh14GgDdMJrUbQatXDhq6lGSnmXrmVgJ5j16hylgay6-zE=s64",
      "userId": "03381739445029229035"
     },
     "user_tz": -480
    },
    "id": "-QvUpUsTfQL_",
    "outputId": "6236a341-8600-496e-a6b7-8d2a599ee6af"
   },
   "outputs": [
    {
     "data": {
      "image/png": "[encoded data removed]",
      "text/plain": [
       "<Figure size 432x288 with 1 Axes>"
      ]
     },
     "metadata": {
      "needs_background": "light",
      "tags": []
     },
     "output_type": "display_data"
    }
   ],
   "source": [
    "plot_result(total_train_accuracy, total_valid_accuracy, 'accuracy')"
   ]
  },
  {
   "cell_type": "code",
   "execution_count": null,
   "metadata": {
    "colab": {},
    "colab_type": "code",
    "id": "Xxogh-sMZTa8"
   },
   "outputs": [],
   "source": []
  },
  {
   "cell_type": "code",
   "execution_count": null,
   "metadata": {
    "colab": {},
    "colab_type": "code",
    "id": "zPiSk-YCK509"
   },
   "outputs": [],
   "source": []
  }
 ],
 "metadata": {
  "accelerator": "GPU",
  "colab": {
   "authorship_tag": "ABX9TyPjMakA5QDuYlkwJvt+M/C7",
   "collapsed_sections": [],
   "name": "LeNet.ipynb",
   "provenance": []
  },
  "kernelspec": {
   "display_name": "Python 3",
   "language": "python",
   "name": "python3"
  },
  "language_info": {
   "codemirror_mode": {
    "name": "ipython",
    "version": 3
   },
   "file_extension": ".py",
   "mimetype": "text/x-python",
   "name": "python",
   "nbconvert_exporter": "python",
   "pygments_lexer": "ipython3",
   "version": "3.7.4"
  }
 },
 "nbformat": 4,
 "nbformat_minor": 1
}
