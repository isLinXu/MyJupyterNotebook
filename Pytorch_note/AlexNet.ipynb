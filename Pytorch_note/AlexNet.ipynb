{
 "cells": [
  {
   "cell_type": "code",
   "execution_count": 1,
   "metadata": {
    "colab": {},
    "colab_type": "code",
    "executionInfo": {
     "elapsed": 859,
     "status": "ok",
     "timestamp": 1600761713092,
     "user": {
      "displayName": "ChingI Lee",
      "photoUrl": "https://lh3.googleusercontent.com/a-/AOh14GgDdMJrUbQatXDhq6lGSnmXrmVgJ5j16hylgay6-zE=s64",
      "userId": "03381739445029229035"
     },
     "user_tz": -480
    },
    "id": "ncj6wZmXcKfU"
   },
   "outputs": [],
   "source": [
    "import torch\n",
    "import torch.nn as nn\n",
    "import torch.nn.functional as F\n",
    "import torch.optim as optim\n",
    "from torch.utils.data import DataLoader\n",
    "from torch.autograd import Variable\n",
    "from torchvision import datasets, transforms\n",
    "import matplotlib.pyplot as plt"
   ]
  },
  {
   "cell_type": "code",
   "execution_count": 2,
   "metadata": {
    "colab": {
     "base_uri": "https://localhost:8080/",
     "height": 34
    },
    "colab_type": "code",
    "executionInfo": {
     "elapsed": 659,
     "status": "ok",
     "timestamp": 1600761714405,
     "user": {
      "displayName": "ChingI Lee",
      "photoUrl": "https://lh3.googleusercontent.com/a-/AOh14GgDdMJrUbQatXDhq6lGSnmXrmVgJ5j16hylgay6-zE=s64",
      "userId": "03381739445029229035"
     },
     "user_tz": -480
    },
    "id": "E0uO8y8BhfvU",
    "outputId": "1a953c10-3597-43e8-aa1f-20c7d4d5d03e"
   },
   "outputs": [
    {
     "name": "stdout",
     "output_type": "stream",
     "text": [
      "cuda\n"
     ]
    }
   ],
   "source": [
    "CUDA = torch.cuda.is_available()\n",
    "device = torch.device(\"cuda\" if CUDA else \"cpu\")\n",
    "print(device)"
   ]
  },
  {
   "cell_type": "code",
   "execution_count": 15,
   "metadata": {
    "colab": {},
    "colab_type": "code",
    "executionInfo": {
     "elapsed": 730,
     "status": "ok",
     "timestamp": 1600762362508,
     "user": {
      "displayName": "ChingI Lee",
      "photoUrl": "https://lh3.googleusercontent.com/a-/AOh14GgDdMJrUbQatXDhq6lGSnmXrmVgJ5j16hylgay6-zE=s64",
      "userId": "03381739445029229035"
     },
     "user_tz": -480
    },
    "id": "gueZgSLmhi9r"
   },
   "outputs": [],
   "source": [
    "class AlexNet(nn.Module):\n",
    "    def __init__(self, num_classes):\n",
    "        super(AlexNet, self).__init__()\n",
    "        self.conv1 = nn.Conv2d(in_channels=3, out_channels=64, kernel_size=11, padding=2, stride=4)\n",
    "        self.conv2 = nn.Conv2d(in_channels=64, out_channels=192, kernel_size=5, padding=2)\n",
    "        self.conv3 = nn.Conv2d(in_channels=192, out_channels=384, kernel_size=3, padding=1)\n",
    "        self.conv4 = nn.Conv2d(in_channels=384, out_channels=256, kernel_size=3, padding=1)\n",
    "        self.conv5 = nn.Conv2d(in_channels=256, out_channels=256, kernel_size=3, padding=1)\n",
    "\n",
    "        self.fc1 = nn.Linear(in_features=256*6*6, out_features=4096)\n",
    "        self.fc2 = nn.Linear(in_features=4096, out_features=1024)\n",
    "        self.fc3 = nn.Linear(in_features=1024, out_features=num_classes)\n",
    "\n",
    "    def forward(self, x):\n",
    "        x = F.relu(self.conv1(x))\n",
    "        x = F.max_pool2d(x, kernel_size=3, stride=2)\n",
    "        x = F.relu(self.conv2(x))\n",
    "        x = F.max_pool2d(x, kernel_size=3, stride=2)\n",
    "        x = F.relu(self.conv3(x))\n",
    "        x = F.relu(self.conv4(x))\n",
    "        x = F.relu(self.conv5(x))\n",
    "        x = F.max_pool2d(x, kernel_size=3, stride=2)\n",
    "        # x = x.view(x.size(0), -1)\n",
    "        x = torch.flatten(x, start_dim=1)\n",
    "        x = F.relu(self.fc1(x))\n",
    "        x = F.dropout(x, p=0.5)\n",
    "        x = F.relu(self.fc2(x))\n",
    "        x = F.dropout(x, p=0.5)\n",
    "        x = self.fc3(x)\n",
    "        return x"
   ]
  },
  {
   "cell_type": "code",
   "execution_count": 17,
   "metadata": {
    "colab": {},
    "colab_type": "code",
    "executionInfo": {
     "elapsed": 893,
     "status": "ok",
     "timestamp": 1600762371983,
     "user": {
      "displayName": "ChingI Lee",
      "photoUrl": "https://lh3.googleusercontent.com/a-/AOh14GgDdMJrUbQatXDhq6lGSnmXrmVgJ5j16hylgay6-zE=s64",
      "userId": "03381739445029229035"
     },
     "user_tz": -480
    },
    "id": "4UXSaZ3shjD7"
   },
   "outputs": [],
   "source": [
    "# Parameters\n",
    "batch_size = 128\n",
    "num_epochs = 30\n",
    "lr = 0.001\n",
    "\n",
    "num_classes=2\n",
    "model = AlexNet(num_classes)\n",
    "\n",
    "if CUDA:\n",
    "    model = model.to(device)\n",
    "\n",
    "optimizer = torch.optim.Adam(model.parameters(), lr=lr)\n",
    "criterion = nn.CrossEntropyLoss()"
   ]
  },
  {
   "cell_type": "code",
   "execution_count": 14,
   "metadata": {
    "colab": {
     "base_uri": "https://localhost:8080/",
     "height": 85
    },
    "colab_type": "code",
    "executionInfo": {
     "elapsed": 5632,
     "status": "ok",
     "timestamp": 1600758820148,
     "user": {
      "displayName": "ChingI Lee",
      "photoUrl": "https://lh3.googleusercontent.com/a-/AOh14GgDdMJrUbQatXDhq6lGSnmXrmVgJ5j16hylgay6-zE=s64",
      "userId": "03381739445029229035"
     },
     "user_tz": -480
    },
    "id": "sISjL81AIh-i",
    "outputId": "fab32ea8-7788-4553-ce18-db5e5110510f"
   },
   "outputs": [
    {
     "name": "stdout",
     "output_type": "stream",
     "text": [
      "Downloading dogs-cats-images.zip to /kaggle\n",
      " 88% 384M/435M [00:03<00:00, 104MB/s]\n",
      "User cancelled operation\n",
      " dataset   dogs-cats-images.zip  'dog vs cat'\n"
     ]
    }
   ],
   "source": [
    "import json\n",
    "import zipfile\n",
    "import os\n",
    "\n",
    "# kaggle api\n",
    "api_token = {\"username\":\"aaa\",\"key\":\"kkk\"}\n",
    " \n",
    "if not os.path.exists(\"/root/.kaggle\"):\n",
    "    os.makedirs(\"/root/.kaggle\")\n",
    "\n",
    "with open('/root/.kaggle/kaggle.json', 'w') as file:\n",
    "    json.dump(api_token, file)\n",
    "!chmod 600 /root/.kaggle/kaggle.json\n",
    " \n",
    "if not os.path.exists(\"/kaggle\"):\n",
    "    os.makedirs(\"/kaggle\")\n",
    "os.chdir('/kaggle')\n",
    "!kaggle datasets download -d chetankv/dogs-cats-images --force\n",
    " \n",
    "!ls /kaggle"
   ]
  },
  {
   "cell_type": "code",
   "execution_count": 6,
   "metadata": {
    "colab": {
     "base_uri": "https://localhost:8080/",
     "height": 85
    },
    "colab_type": "code",
    "executionInfo": {
     "elapsed": 33759,
     "status": "ok",
     "timestamp": 1600757492182,
     "user": {
      "displayName": "ChingI Lee",
      "photoUrl": "https://lh3.googleusercontent.com/a-/AOh14GgDdMJrUbQatXDhq6lGSnmXrmVgJ5j16hylgay6-zE=s64",
      "userId": "03381739445029229035"
     },
     "user_tz": -480
    },
    "id": "pS1Aa4RMJv5D",
    "outputId": "c4654582-42e7-4f8d-dbc7-993e18bbeed5"
   },
   "outputs": [
    {
     "name": "stdout",
     "output_type": "stream",
     "text": [
      "Archive:  dogs-cats-images.zip\n",
      "replace dataset/test_set/cats/cat.4001.jpg? [y]es, [n]o, [A]ll, [N]one, [r]ename: y\n",
      "  inflating: dataset/test_set/cats/cat.4001.jpg  \n",
      "replace dataset/test_set/cats/cat.4002.jpg? [y]es, [n]o, [A]ll, [N]one, [r]ename: "
     ]
    }
   ],
   "source": [
    "!unzip dogs-cats-images.zip"
   ]
  },
  {
   "cell_type": "code",
   "execution_count": 20,
   "metadata": {
    "colab": {
     "base_uri": "https://localhost:8080/",
     "height": 35
    },
    "colab_type": "code",
    "executionInfo": {
     "elapsed": 623,
     "status": "ok",
     "timestamp": 1600758488563,
     "user": {
      "displayName": "ChingI Lee",
      "photoUrl": "https://lh3.googleusercontent.com/a-/AOh14GgDdMJrUbQatXDhq6lGSnmXrmVgJ5j16hylgay6-zE=s64",
      "userId": "03381739445029229035"
     },
     "user_tz": -480
    },
    "id": "LeKc3BKZLSnp",
    "outputId": "7c6860d4-d5d3-485c-db2c-791bad64a37e"
   },
   "outputs": [
    {
     "data": {
      "application/vnd.google.colaboratory.intrinsic+json": {
       "type": "string"
      },
      "text/plain": [
       "'/kaggle'"
      ]
     },
     "execution_count": 20,
     "metadata": {
      "tags": []
     },
     "output_type": "execute_result"
    }
   ],
   "source": [
    "pwd"
   ]
  },
  {
   "cell_type": "code",
   "execution_count": 18,
   "metadata": {
    "colab": {},
    "colab_type": "code",
    "executionInfo": {
     "elapsed": 652,
     "status": "ok",
     "timestamp": 1600762376254,
     "user": {
      "displayName": "ChingI Lee",
      "photoUrl": "https://lh3.googleusercontent.com/a-/AOh14GgDdMJrUbQatXDhq6lGSnmXrmVgJ5j16hylgay6-zE=s64",
      "userId": "03381739445029229035"
     },
     "user_tz": -480
    },
    "id": "pya7o_vhbFvv"
   },
   "outputs": [],
   "source": [
    "# Transform\n",
    "transform = transforms.Compose(\n",
    "                [transforms.Resize(size=(227,227)),\n",
    "                 transforms.CenterCrop(224),\n",
    "                 transforms.RandomRotation(20),\n",
    "                  transforms.RandomHorizontalFlip(),\n",
    "                 transforms.ToTensor(),\n",
    "                transforms.Normalize((0.5,), (0.5,)),]\n",
    "                )\n",
    "\n",
    "# Data\n",
    "train_dataset = datasets.ImageFolder(root='/kaggle/dataset/training_set', transform=transform)\n",
    "valid_dataset = datasets.ImageFolder(root='/kaggle/dataset/test_set', transform=transform)\n",
    "train_loader = DataLoader(train_dataset, batch_size=batch_size, shuffle=True)\n",
    "valid_loader = DataLoader(valid_dataset, batch_size=batch_size, shuffle=False)"
   ]
  },
  {
   "cell_type": "code",
   "execution_count": 6,
   "metadata": {
    "colab": {
     "base_uri": "https://localhost:8080/",
     "height": 34
    },
    "colab_type": "code",
    "executionInfo": {
     "elapsed": 620,
     "status": "ok",
     "timestamp": 1600761732807,
     "user": {
      "displayName": "ChingI Lee",
      "photoUrl": "https://lh3.googleusercontent.com/a-/AOh14GgDdMJrUbQatXDhq6lGSnmXrmVgJ5j16hylgay6-zE=s64",
      "userId": "03381739445029229035"
     },
     "user_tz": -480
    },
    "id": "F3zm-f2efALG",
    "outputId": "b2ab3817-d256-43ec-d174-183bc6ec5e83"
   },
   "outputs": [
    {
     "data": {
      "text/plain": [
       "2000"
      ]
     },
     "execution_count": 6,
     "metadata": {
      "tags": []
     },
     "output_type": "execute_result"
    }
   ],
   "source": [
    "len(valid_dataset)"
   ]
  },
  {
   "cell_type": "code",
   "execution_count": 19,
   "metadata": {
    "colab": {},
    "colab_type": "code",
    "executionInfo": {
     "elapsed": 689,
     "status": "ok",
     "timestamp": 1600762385602,
     "user": {
      "displayName": "ChingI Lee",
      "photoUrl": "https://lh3.googleusercontent.com/a-/AOh14GgDdMJrUbQatXDhq6lGSnmXrmVgJ5j16hylgay6-zE=s64",
      "userId": "03381739445029229035"
     },
     "user_tz": -480
    },
    "id": "ob9uffyc9IqU"
   },
   "outputs": [],
   "source": [
    "def train(train_loader, model, criterion, optimizer, epoch):\n",
    "    model.train()\n",
    "    total_train = 0\n",
    "    correct_train = 0\n",
    "    train_loss = 0\n",
    "    \n",
    "    for batch_idx, (data, target) in enumerate(train_loader):\n",
    "        data, target = Variable(data), Variable(target) \n",
    "        \n",
    "        if CUDA:\n",
    "            data, target = data.cuda(), target.cuda()\n",
    "\n",
    "        # clear gradient\n",
    "        optimizer.zero_grad()\n",
    "\n",
    "        # Forward propagation\n",
    "        output = model(data) \n",
    "        loss = criterion(output, target) \n",
    "\n",
    "        # Calculate gradients\n",
    "        loss.backward()\n",
    "\n",
    "        # Update parameters\n",
    "        optimizer.step()\n",
    "\n",
    "        predicted = torch.max(output.data, 1)[1]\n",
    "        total_train += len(target)\n",
    "        correct_train += sum((predicted == target).float())\n",
    "        train_loss += loss.item()\n",
    "\n",
    "        if batch_idx % 100 == 0:\n",
    "            print(\"Train Epoch: {}/{} [iter： {}/{}], acc： {:.6f}, loss： {:.6f}\".format(\n",
    "               epoch+1, num_epochs, batch_idx+1, len(train_loader),\n",
    "               correct_train / float((batch_idx + 1) * batch_size),\n",
    "               train_loss / float((batch_idx + 1) * batch_size)))\n",
    "            \n",
    "    train_acc_ = 100 * (correct_train / float(total_train))\n",
    "    train_loss_ = train_loss / total_train\n",
    "                    \n",
    "    return train_acc_, train_loss_"
   ]
  },
  {
   "cell_type": "code",
   "execution_count": 20,
   "metadata": {
    "colab": {},
    "colab_type": "code",
    "executionInfo": {
     "elapsed": 928,
     "status": "ok",
     "timestamp": 1600762391521,
     "user": {
      "displayName": "ChingI Lee",
      "photoUrl": "https://lh3.googleusercontent.com/a-/AOh14GgDdMJrUbQatXDhq6lGSnmXrmVgJ5j16hylgay6-zE=s64",
      "userId": "03381739445029229035"
     },
     "user_tz": -480
    },
    "id": "aKbf4cC59Isy"
   },
   "outputs": [],
   "source": [
    "def validate(valid_loader, model, criterion, epoch): \n",
    "    model.eval()\n",
    "    total_valid = 0\n",
    "    correct_valid = 0\n",
    "    valid_loss = 0\n",
    "    \n",
    "    for batch_idx, (data, target) in enumerate(valid_loader):\n",
    "        data, target = Variable(data), Variable(target) \n",
    "        \n",
    "        if CUDA:\n",
    "            data, target = data.cuda(), target.cuda()\n",
    "\n",
    "        output = model(data)\n",
    "        loss = criterion(output, target) \n",
    "\n",
    "        predicted = torch.max(output.data, 1)[1]\n",
    "        total_valid += len(target)\n",
    "        correct_valid += sum((predicted == target).float())\n",
    "        valid_loss += loss.item()\n",
    "\n",
    "        if batch_idx % 100 == 0:\n",
    "            print(\"Valid Epoch: {}/{} [iter： {}/{}], acc： {:.6f}, loss： {:.6f}\".format(\n",
    "               epoch+1, num_epochs, batch_idx+1, len(valid_loader),\n",
    "               correct_valid / float((batch_idx + 1) * batch_size),\n",
    "               valid_loss / float((batch_idx + 1) * batch_size)))\n",
    "            \n",
    "    valid_acc_ = 100 * (correct_valid / float(total_valid))\n",
    "    valid_loss_ = valid_loss / total_valid\n",
    "                    \n",
    "    return valid_acc_, valid_loss_"
   ]
  },
  {
   "cell_type": "code",
   "execution_count": 21,
   "metadata": {
    "colab": {},
    "colab_type": "code",
    "executionInfo": {
     "elapsed": 667,
     "status": "ok",
     "timestamp": 1600762411324,
     "user": {
      "displayName": "ChingI Lee",
      "photoUrl": "https://lh3.googleusercontent.com/a-/AOh14GgDdMJrUbQatXDhq6lGSnmXrmVgJ5j16hylgay6-zE=s64",
      "userId": "03381739445029229035"
     },
     "user_tz": -480
    },
    "id": "aNjuzjpK9IvD"
   },
   "outputs": [],
   "source": [
    "def training_loop(model, criterion, optimizer, train_loader, valid_loader):\n",
    "    # set objects for storing metrics\n",
    "    total_train_loss = []\n",
    "    total_valid_loss = []\n",
    "    total_train_accuracy = []\n",
    "    total_valid_accuracy = []\n",
    " \n",
    "    # Train model\n",
    "    for epoch in range(num_epochs):\n",
    "        # training\n",
    "        train_acc_, train_loss_ = train(train_loader, model, criterion, optimizer, epoch)\n",
    "        total_train_loss.append(train_loss_)\n",
    "        total_train_accuracy.append(train_acc_)\n",
    "\n",
    "        # validation\n",
    "        with torch.no_grad():\n",
    "            valid_acc_, valid_loss_ = validate(valid_loader, model, criterion, epoch)\n",
    "            total_valid_loss.append(valid_loss_)\n",
    "            total_valid_accuracy.append(valid_acc_)\n",
    "\n",
    "        print('==========================================================================')\n",
    "        print(\"Epoch: {}/{}， Train acc： {:.6f}， Train loss： {:.6f}， Valid acc： {:.6f}， Valid loss： {:.6f}\".format(\n",
    "               epoch+1, num_epochs, \n",
    "               train_acc_, train_loss_,\n",
    "               valid_acc_, valid_loss_))\n",
    "        print('==========================================================================')\n",
    "\n",
    "    print(\"====== END ==========\")\n",
    "\n",
    "    return total_train_loss, total_valid_loss, total_train_accuracy, total_valid_accuracy"
   ]
  },
  {
   "cell_type": "code",
   "execution_count": 22,
   "metadata": {
    "colab": {
     "base_uri": "https://localhost:8080/",
     "height": 1000
    },
    "colab_type": "code",
    "executionInfo": {
     "elapsed": 1872513,
     "status": "ok",
     "timestamp": 1600764285351,
     "user": {
      "displayName": "ChingI Lee",
      "photoUrl": "https://lh3.googleusercontent.com/a-/AOh14GgDdMJrUbQatXDhq6lGSnmXrmVgJ5j16hylgay6-zE=s64",
      "userId": "03381739445029229035"
     },
     "user_tz": -480
    },
    "id": "TBInnBAl9OlO",
    "outputId": "4d505dab-5a9a-4ad8-e935-7c325b4510b0"
   },
   "outputs": [
    {
     "name": "stdout",
     "output_type": "stream",
     "text": [
      "Train Epoch: 1/30 [iter： 1/63], acc： 0.492188, loss： 0.005417\n",
      "Valid Epoch: 1/30 [iter： 1/16], acc： 0.093750, loss： 0.005461\n",
      "==========================================================================\n",
      "Epoch: 1/30， Train acc： 49.975002， Train loss： 0.005488， Valid acc： 49.300003， Valid loss： 0.005546\n",
      "==========================================================================\n",
      "Train Epoch: 2/30 [iter： 1/63], acc： 0.523438, loss： 0.005415\n",
      "Valid Epoch: 2/30 [iter： 1/16], acc： 0.914062, loss： 0.004081\n",
      "==========================================================================\n",
      "Epoch: 2/30， Train acc： 52.637501， Train loss： 0.005441， Valid acc： 51.000004， Valid loss： 0.005648\n",
      "==========================================================================\n",
      "Train Epoch: 3/30 [iter： 1/63], acc： 0.507812, loss： 0.005452\n",
      "Valid Epoch: 3/30 [iter： 1/16], acc： 0.195312, loss： 0.005480\n",
      "==========================================================================\n",
      "Epoch: 3/30， Train acc： 50.925003， Train loss： 0.005480， Valid acc： 50.200005， Valid loss： 0.005543\n",
      "==========================================================================\n",
      "Train Epoch: 4/30 [iter： 1/63], acc： 0.546875, loss： 0.005412\n",
      "Valid Epoch: 4/30 [iter： 1/16], acc： 0.843750, loss： 0.005119\n",
      "==========================================================================\n",
      "Epoch: 4/30， Train acc： 50.887501， Train loss： 0.005461， Valid acc： 53.350002， Valid loss： 0.005518\n",
      "==========================================================================\n",
      "Train Epoch: 5/30 [iter： 1/63], acc： 0.539062, loss： 0.005410\n",
      "Valid Epoch: 5/30 [iter： 1/16], acc： 0.960938, loss： 0.005051\n",
      "==========================================================================\n",
      "Epoch: 5/30， Train acc： 55.662502， Train loss： 0.005363， Valid acc： 53.800003， Valid loss： 0.005496\n",
      "==========================================================================\n",
      "Train Epoch: 6/30 [iter： 1/63], acc： 0.539062, loss： 0.005313\n",
      "Valid Epoch: 6/30 [iter： 1/16], acc： 0.898438, loss： 0.005387\n",
      "==========================================================================\n",
      "Epoch: 6/30， Train acc： 55.012501， Train loss： 0.005325， Valid acc： 58.100002， Valid loss： 0.005550\n",
      "==========================================================================\n",
      "Train Epoch: 7/30 [iter： 1/63], acc： 0.523438, loss： 0.005710\n",
      "Valid Epoch: 7/30 [iter： 1/16], acc： 0.968750, loss： 0.004782\n",
      "==========================================================================\n",
      "Epoch: 7/30， Train acc： 56.287502， Train loss： 0.005271， Valid acc： 56.650002， Valid loss： 0.005408\n",
      "==========================================================================\n",
      "Train Epoch: 8/30 [iter： 1/63], acc： 0.539062, loss： 0.005331\n",
      "Valid Epoch: 8/30 [iter： 1/16], acc： 0.929688, loss： 0.004771\n",
      "==========================================================================\n",
      "Epoch: 8/30， Train acc： 57.662506， Train loss： 0.005229， Valid acc： 58.299999， Valid loss： 0.005298\n",
      "==========================================================================\n",
      "Train Epoch: 9/30 [iter： 1/63], acc： 0.585938, loss： 0.004961\n",
      "Valid Epoch: 9/30 [iter： 1/16], acc： 0.953125, loss： 0.004079\n",
      "==========================================================================\n",
      "Epoch: 9/30， Train acc： 59.012501， Train loss： 0.005158， Valid acc： 57.400002， Valid loss： 0.005329\n",
      "==========================================================================\n",
      "Train Epoch: 10/30 [iter： 1/63], acc： 0.617188, loss： 0.004875\n",
      "Valid Epoch: 10/30 [iter： 1/16], acc： 0.914062, loss： 0.004931\n",
      "==========================================================================\n",
      "Epoch: 10/30， Train acc： 59.025002， Train loss： 0.005130， Valid acc： 61.050003， Valid loss： 0.005170\n",
      "==========================================================================\n",
      "Train Epoch: 11/30 [iter： 1/63], acc： 0.570312, loss： 0.005030\n",
      "Valid Epoch: 11/30 [iter： 1/16], acc： 0.843750, loss： 0.004590\n",
      "==========================================================================\n",
      "Epoch: 11/30， Train acc： 61.962502， Train loss： 0.005004， Valid acc： 62.550003， Valid loss： 0.005047\n",
      "==========================================================================\n",
      "Train Epoch: 12/30 [iter： 1/63], acc： 0.617188, loss： 0.004940\n",
      "Valid Epoch: 12/30 [iter： 1/16], acc： 0.859375, loss： 0.004452\n",
      "==========================================================================\n",
      "Epoch: 12/30， Train acc： 60.937500， Train loss： 0.005056， Valid acc： 62.000000， Valid loss： 0.005089\n",
      "==========================================================================\n",
      "Train Epoch: 13/30 [iter： 1/63], acc： 0.609375, loss： 0.005046\n",
      "Valid Epoch: 13/30 [iter： 1/16], acc： 0.671875, loss： 0.004763\n",
      "==========================================================================\n",
      "Epoch: 13/30， Train acc： 63.750004， Train loss： 0.004886， Valid acc： 61.950005， Valid loss： 0.005095\n",
      "==========================================================================\n",
      "Train Epoch: 14/30 [iter： 1/63], acc： 0.601562, loss： 0.005480\n",
      "Valid Epoch: 14/30 [iter： 1/16], acc： 0.585938, loss： 0.005245\n",
      "==========================================================================\n",
      "Epoch: 14/30， Train acc： 63.300003， Train loss： 0.004893， Valid acc： 63.350002， Valid loss： 0.004900\n",
      "==========================================================================\n",
      "Train Epoch: 15/30 [iter： 1/63], acc： 0.609375, loss： 0.005493\n",
      "Valid Epoch: 15/30 [iter： 1/16], acc： 0.687500, loss： 0.004909\n",
      "==========================================================================\n",
      "Epoch: 15/30， Train acc： 63.425003， Train loss： 0.004929， Valid acc： 66.150002， Valid loss： 0.004760\n",
      "==========================================================================\n",
      "Train Epoch: 16/30 [iter： 1/63], acc： 0.679688, loss： 0.004154\n",
      "Valid Epoch: 16/30 [iter： 1/16], acc： 0.648438, loss： 0.004643\n",
      "==========================================================================\n",
      "Epoch: 16/30， Train acc： 64.387497， Train loss： 0.004829， Valid acc： 66.150002， Valid loss： 0.004689\n",
      "==========================================================================\n",
      "Train Epoch: 17/30 [iter： 1/63], acc： 0.687500, loss： 0.004409\n",
      "Valid Epoch: 17/30 [iter： 1/16], acc： 0.718750, loss： 0.004161\n",
      "==========================================================================\n",
      "Epoch: 17/30， Train acc： 67.137505， Train loss： 0.004653， Valid acc： 67.150002， Valid loss： 0.004672\n",
      "==========================================================================\n",
      "Train Epoch: 18/30 [iter： 1/63], acc： 0.617188, loss： 0.004882\n",
      "Valid Epoch: 18/30 [iter： 1/16], acc： 0.601562, loss： 0.004718\n",
      "==========================================================================\n",
      "Epoch: 18/30， Train acc： 67.375008， Train loss： 0.004635， Valid acc： 68.350006， Valid loss： 0.004611\n",
      "==========================================================================\n",
      "Train Epoch: 19/30 [iter： 1/63], acc： 0.671875, loss： 0.004513\n",
      "Valid Epoch: 19/30 [iter： 1/16], acc： 0.726562, loss： 0.004052\n",
      "==========================================================================\n",
      "Epoch: 19/30， Train acc： 68.050003， Train loss： 0.004591， Valid acc： 69.050003， Valid loss： 0.004432\n",
      "==========================================================================\n",
      "Train Epoch: 20/30 [iter： 1/63], acc： 0.703125, loss： 0.004482\n",
      "Valid Epoch: 20/30 [iter： 1/16], acc： 0.750000, loss： 0.004235\n",
      "==========================================================================\n",
      "Epoch: 20/30， Train acc： 68.787506， Train loss： 0.004538， Valid acc： 68.050003， Valid loss： 0.004825\n",
      "==========================================================================\n",
      "Train Epoch: 21/30 [iter： 1/63], acc： 0.648438, loss： 0.004871\n",
      "Valid Epoch: 21/30 [iter： 1/16], acc： 0.632812, loss： 0.004577\n",
      "==========================================================================\n",
      "Epoch: 21/30， Train acc： 68.050003， Train loss： 0.004545， Valid acc： 70.500008， Valid loss： 0.004405\n",
      "==========================================================================\n",
      "Train Epoch: 22/30 [iter： 1/63], acc： 0.781250, loss： 0.003849\n",
      "Valid Epoch: 22/30 [iter： 1/16], acc： 0.531250, loss： 0.005070\n",
      "==========================================================================\n",
      "Epoch: 22/30， Train acc： 69.362503， Train loss： 0.004450， Valid acc： 68.650002， Valid loss： 0.004435\n",
      "==========================================================================\n",
      "Train Epoch: 23/30 [iter： 1/63], acc： 0.718750, loss： 0.004072\n",
      "Valid Epoch: 23/30 [iter： 1/16], acc： 0.609375, loss： 0.004576\n",
      "==========================================================================\n",
      "Epoch: 23/30， Train acc： 68.562500， Train loss： 0.004465， Valid acc： 68.900002， Valid loss： 0.004540\n",
      "==========================================================================\n",
      "Train Epoch: 24/30 [iter： 1/63], acc： 0.687500, loss： 0.004880\n",
      "Valid Epoch: 24/30 [iter： 1/16], acc： 0.781250, loss： 0.003574\n",
      "==========================================================================\n",
      "Epoch: 24/30， Train acc： 70.475006， Train loss： 0.004351， Valid acc： 71.550003， Valid loss： 0.004305\n",
      "==========================================================================\n",
      "Train Epoch: 25/30 [iter： 1/63], acc： 0.656250, loss： 0.004532\n",
      "Valid Epoch: 25/30 [iter： 1/16], acc： 0.703125, loss： 0.004252\n",
      "==========================================================================\n",
      "Epoch: 25/30， Train acc： 71.462509， Train loss： 0.004301， Valid acc： 71.650002， Valid loss： 0.004262\n",
      "==========================================================================\n",
      "Train Epoch: 26/30 [iter： 1/63], acc： 0.750000, loss： 0.003618\n",
      "Valid Epoch: 26/30 [iter： 1/16], acc： 0.710938, loss： 0.003713\n",
      "==========================================================================\n",
      "Epoch: 26/30， Train acc： 71.187500， Train loss： 0.004295， Valid acc： 71.250000， Valid loss： 0.004344\n",
      "==========================================================================\n",
      "Train Epoch: 27/30 [iter： 1/63], acc： 0.750000, loss： 0.003785\n",
      "Valid Epoch: 27/30 [iter： 1/16], acc： 0.734375, loss： 0.003828\n",
      "==========================================================================\n",
      "Epoch: 27/30， Train acc： 71.250000， Train loss： 0.004243， Valid acc： 73.450005， Valid loss： 0.004197\n",
      "==========================================================================\n",
      "Train Epoch: 28/30 [iter： 1/63], acc： 0.718750, loss： 0.004213\n",
      "Valid Epoch: 28/30 [iter： 1/16], acc： 0.609375, loss： 0.004368\n",
      "==========================================================================\n",
      "Epoch: 28/30， Train acc： 72.537506， Train loss： 0.004181， Valid acc： 71.949997， Valid loss： 0.004098\n",
      "==========================================================================\n",
      "Train Epoch: 29/30 [iter： 1/63], acc： 0.789062, loss： 0.003513\n",
      "Valid Epoch: 29/30 [iter： 1/16], acc： 0.671875, loss： 0.003883\n",
      "==========================================================================\n",
      "Epoch: 29/30， Train acc： 72.225006， Train loss： 0.004203， Valid acc： 72.750000， Valid loss： 0.004101\n",
      "==========================================================================\n",
      "Train Epoch: 30/30 [iter： 1/63], acc： 0.726562, loss： 0.003751\n",
      "Valid Epoch: 30/30 [iter： 1/16], acc： 0.742188, loss： 0.003808\n",
      "==========================================================================\n",
      "Epoch: 30/30， Train acc： 72.562500， Train loss： 0.004130， Valid acc： 73.150002， Valid loss： 0.004115\n",
      "==========================================================================\n",
      "====== END ==========\n"
     ]
    }
   ],
   "source": [
    "total_train_loss, total_valid_loss, total_train_accuracy, total_valid_accuracy = training_loop(model, criterion, optimizer, train_loader, valid_loader)"
   ]
  },
  {
   "cell_type": "code",
   "execution_count": 23,
   "metadata": {
    "colab": {},
    "colab_type": "code",
    "executionInfo": {
     "elapsed": 674,
     "status": "ok",
     "timestamp": 1600764320391,
     "user": {
      "displayName": "ChingI Lee",
      "photoUrl": "https://lh3.googleusercontent.com/a-/AOh14GgDdMJrUbQatXDhq6lGSnmXrmVgJ5j16hylgay6-zE=s64",
      "userId": "03381739445029229035"
     },
     "user_tz": -480
    },
    "id": "pX2YsaL49QKa"
   },
   "outputs": [],
   "source": [
    "def plot_result(total_train, total_valid, label):\n",
    "    plt.plot(range(num_epochs), total_train, 'b-', label=f'Training_{label}')\n",
    "    plt.plot(range(num_epochs), total_valid, 'g-', label=f'validation_{label}')\n",
    "    plt.title(f'Training & Validation {label}')\n",
    "    plt.xlabel('Number of epochs')\n",
    "    plt.ylabel(f'{label}')\n",
    "    plt.legend()\n",
    "    plt.show()"
   ]
  },
  {
   "cell_type": "code",
   "execution_count": 24,
   "metadata": {
    "colab": {
     "base_uri": "https://localhost:8080/",
     "height": 295
    },
    "colab_type": "code",
    "executionInfo": {
     "elapsed": 1047,
     "status": "ok",
     "timestamp": 1600764321844,
     "user": {
      "displayName": "ChingI Lee",
      "photoUrl": "https://lh3.googleusercontent.com/a-/AOh14GgDdMJrUbQatXDhq6lGSnmXrmVgJ5j16hylgay6-zE=s64",
      "userId": "03381739445029229035"
     },
     "user_tz": -480
    },
    "id": "6fkjyXXV13eI",
    "outputId": "7a1807f9-4d06-4f36-f0d1-85d6c05d4aed"
   },
   "outputs": [
    {
     "data": {
      "image/png": "[encoded data removed]",
      "text/plain": [
       "<Figure size 432x288 with 1 Axes>"
      ]
     },
     "metadata": {
      "needs_background": "light",
      "tags": []
     },
     "output_type": "display_data"
    }
   ],
   "source": [
    "plot_result(total_train_loss, total_valid_loss, 'loss')"
   ]
  },
  {
   "cell_type": "code",
   "execution_count": 25,
   "metadata": {
    "colab": {
     "base_uri": "https://localhost:8080/",
     "height": 295
    },
    "colab_type": "code",
    "executionInfo": {
     "elapsed": 1102,
     "status": "ok",
     "timestamp": 1600764322642,
     "user": {
      "displayName": "ChingI Lee",
      "photoUrl": "https://lh3.googleusercontent.com/a-/AOh14GgDdMJrUbQatXDhq6lGSnmXrmVgJ5j16hylgay6-zE=s64",
      "userId": "03381739445029229035"
     },
     "user_tz": -480
    },
    "id": "8qXfmlKm13h0",
    "outputId": "d0530fcc-9f77-4d97-8d55-54e81daacf74"
   },
   "outputs": [
    {
     "data": {
      "image/png": "[encoded data removed]",
      "text/plain": [
       "<Figure size 432x288 with 1 Axes>"
      ]
     },
     "metadata": {
      "needs_background": "light",
      "tags": []
     },
     "output_type": "display_data"
    }
   ],
   "source": [
    "plot_result(total_train_accuracy, total_valid_accuracy, 'accuracy')"
   ]
  }
 ],
 "metadata": {
  "accelerator": "GPU",
  "colab": {
   "authorship_tag": "ABX9TyOqDZ8hRKdrS4vaUTI7TEM6",
   "collapsed_sections": [],
   "name": "AlexNet.ipynb",
   "provenance": []
  },
  "kernelspec": {
   "display_name": "Python 3",
   "language": "python",
   "name": "python3"
  },
  "language_info": {
   "codemirror_mode": {
    "name": "ipython",
    "version": 3
   },
   "file_extension": ".py",
   "mimetype": "text/x-python",
   "name": "python",
   "nbconvert_exporter": "python",
   "pygments_lexer": "ipython3",
   "version": "3.7.4"
  }
 },
 "nbformat": 4,
 "nbformat_minor": 1
}
