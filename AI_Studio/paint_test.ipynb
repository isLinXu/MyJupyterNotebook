{
 "cells": [
  {
   "cell_type": "code",
   "execution_count": null,
   "metadata": {
    "collapsed": true
   },
   "outputs": [],
   "source": [
    "from demo import load_checkpoints\n",
    "generator, kp_detector = load_checkpoints(config_path='first-order-model/config/vox-256.yaml',\n",
    "                                          checkpoint_path='data/data51886/checkpoint.tar')\n",
    "#加载配置文件并加载数据集"
   ]
  },
  {
   "cell_type": "code",
   "execution_count": null,
   "outputs": [],
   "source": [
    "from demo import load_checkpoints\n",
    "generator, kp_detector = load_checkpoints(config_path='first-order-model/config/fashion-256.yaml',\n",
    "                                          checkpoint_path='data/data51886/fashion.pth.tar')\n",
    "#加载配置文件并加载数据集"
   ],
   "metadata": {
    "collapsed": false,
    "pycharm": {
     "name": "#%%\n"
    }
   }
  },
  {
   "cell_type": "code",
   "execution_count": null,
   "outputs": [],
   "source": [
    "from demo import load_checkpoints\n",
    "generator, kp_detector = load_checkpoints(config_path='first-order-model/config/fashion-256.yaml',\n",
    "                                          checkpoint_path='data/data51886/fashion.pth.tar')\n",
    "#加载配置文件并加载数据集"
   ],
   "metadata": {
    "collapsed": false,
    "pycharm": {
     "name": "#%%\n"
    }
   }
  },
  {
   "cell_type": "code",
   "execution_count": null,
   "outputs": [],
   "source": [
    "import sys\n",
    "sys.path.append('/home/aistudio/external-libraries')\n",
    "sys.path.append('/home/aistudio/first-order-model')"
   ],
   "metadata": {
    "collapsed": false,
    "pycharm": {
     "name": "#%%\n"
    }
   }
  },
  {
   "cell_type": "code",
   "execution_count": null,
   "outputs": [
    {
     "name": "stdout",
     "output_type": "stream",
     "text": [
      "Cloning into 'first-order-model'...\r\n",
      "remote: Enumerating objects: 243, done.\u001B[K\r\n",
      "Receiving objects:  41% (102/243), 788.01 KiB | 15.00 KiB/s   \r"
     ]
    }
   ],
   "source": [
    "!git clone https://gitee.com/xiaoxu12315/first-order-model.git\n",
    "#从码云克隆仓库\n",
    "!cd /home/aistudio/first-order-model\n",
    "#进入工作目录\n",
    "!pip install -i https://mirrors.aliyun.com/pypi/simple/ moviepy cffi==1.11.5 cloudpickle==1.2.1 cycler==0.10.0 dask==0.18.2 decorator==4.3.0 imageio==2.5.0 kiwisolver==1.0.1 matplotlib==2.2.2 networkx==2.1 numpy==1.15.0 pandas==0.23.4 Pillow==5.2.0 pycparser==2.18 pygit==0.1 pyparsing==2.2.0 python-dateutil==2.7.3 pytz==2018.5 PyWavelets==0.5.2 PyYAML==5.1 scikit-image==0.14.0 scikit-learn==0.19.2 scipy==1.1.0 six==1.14.0 toolz==0.9.0 torch==1.0.0 torchvision==0.2.1 tqdm==4.24.0\n",
    "#安装依赖"
   ],
   "metadata": {
    "collapsed": false,
    "pycharm": {
     "name": "#%%\n",
     "is_executing": true
    }
   }
  },
  {
   "cell_type": "code",
   "execution_count": null,
   "outputs": [],
   "source": [
    "import imageio\n",
    "import numpy as np\n",
    "import matplotlib.pyplot as plt\n",
    "import matplotlib.animation as animation\n",
    "from skimage.transform import resize\n",
    "from IPython.display import HTML\n",
    "import warnings\n",
    "warnings.filterwarnings(\"ignore\")\n",
    "\n",
    "source_image = imageio.imread('file/import.png')\n",
    "driving_video = imageio.mimread('file/import.mp4')\n",
    "\n",
    "\n",
    "#调整图片和视频分辨率\n",
    "\n",
    "source_image = resize(source_image, (256, 256))[..., :3]\n",
    "driving_video = [resize(frame, (256, 256))[..., :3] for frame in driving_video]\n",
    "\n",
    "def display(source, driving, generated=None):\n",
    "    fig = plt.figure(figsize=(8 + 4 * (generated is not None), 6))\n",
    "\n",
    "    ims = []\n",
    "    for i in range(len(driving)):\n",
    "        cols = [source]\n",
    "        cols.append(driving[i])\n",
    "        if generated is not None:\n",
    "            cols.append(generated[i])\n",
    "        im = plt.imshow(np.concatenate(cols, axis=1), animated=True)\n",
    "        plt.axis('off')\n",
    "        ims.append([im])\n",
    "\n",
    "    ani = animation.ArtistAnimation(fig, ims, interval=50, repeat_delay=1000)\n",
    "    plt.close()\n",
    "    return ani\n",
    "\n",
    "\n",
    "HTML(display(source_image, driving_video).to_html5_video())"
   ],
   "metadata": {
    "collapsed": false,
    "pycharm": {
     "name": "#%%\n"
    }
   }
  },
  {
   "cell_type": "code",
   "execution_count": null,
   "outputs": [],
   "source": [
    "from demo import load_checkpoints\n",
    "generator, kp_detector = load_checkpoints(config_path='first-order-model/config/vox-256.yaml',\n",
    "                                          checkpoint_path='data/data51886/checkpoint.tar')\n",
    "#加载配置文件并加载数据集"
   ],
   "metadata": {
    "collapsed": false,
    "pycharm": {
     "name": "#%%\n"
    }
   }
  },
  {
   "cell_type": "code",
   "execution_count": null,
   "outputs": [],
   "source": [
    "from demo import make_animation\n",
    "from skimage import img_as_ubyte\n",
    "\n",
    "predictions = make_animation(source_image, driving_video, generator, kp_detector, relative=True)\n",
    "\n",
    "#保存结果\n",
    "imageio.mimsave('file/result-10fps.mp4', [img_as_ubyte(frame) for frame in predictions])\n",
    "\n",
    "HTML(display(source_image, driving_video, predictions).to_html5_video())"
   ],
   "metadata": {
    "collapsed": false,
    "pycharm": {
     "name": "#%%\n"
    }
   }
  },
  {
   "cell_type": "code",
   "execution_count": null,
   "outputs": [],
   "source": [
    "import cv2\n",
    "from cv2 import VideoWriter,VideoWriter_fourcc\n",
    "\n",
    "video_root =\"file/import.mp4\"\n",
    "cap = cv2.VideoCapture(video_root)\n",
    "fps = cap.get(cv2.CAP_PROP_FPS)\n",
    "video_width = int(cap.get(cv2.CAP_PROP_FRAME_WIDTH))\n",
    "video_height = int(cap.get(cv2.CAP_PROP_FRAME_HEIGHT))\n",
    "resize_width = 256\n",
    "resize_height = 256\n",
    "double_fps = 2*fps\n",
    "print(video_height)\n",
    "print(video_width)\n",
    "print(fps)"
   ],
   "metadata": {
    "collapsed": false,
    "pycharm": {
     "name": "#%%\n"
    }
   }
  },
  {
   "cell_type": "code",
   "execution_count": null,
   "outputs": [],
   "source": [
    "import cv2\n",
    "from cv2 import VideoWriter,VideoWriter_fourcc\n",
    "\n",
    "video_root =\"file/result-10fps.mp4\"\n",
    "out_root = \"file/result-origin-fps.mp4\"\n",
    "cap = cv2.VideoCapture(video_root)\n",
    "resize_width = 256\n",
    "resize_height = 256\n",
    "double_fps = 2*fps\n",
    "\n",
    "fourcc = cv2.VideoWriter_fourcc('m','p','4','v')\n",
    "videoWriter = cv2.VideoWriter(out_root,fourcc,fps,(256,256))\n",
    "\n",
    "success = cap.isOpened()\n",
    "while (success):\n",
    "    success,frame = cap.read()\n",
    "    print(\"Read a new frame:\",success)\n",
    "    if not success:\n",
    "        break\n",
    "    frame = cv2.resize(frame,(256,256))\n",
    "    videoWriter.write(frame)\n",
    "videoWriter.release()"
   ],
   "metadata": {
    "collapsed": false,
    "pycharm": {
     "name": "#%%\n"
    }
   }
  },
  {
   "cell_type": "code",
   "execution_count": null,
   "outputs": [],
   "source": [
    "from moviepy.editor import *\n",
    "\n",
    "# 读取2个视频文件\n",
    "videoclip_1 = VideoFileClip(\"file/import.mp4\")\n",
    "videoclip_2 = VideoFileClip(\"file/result-origin-fps.mp4\")\n",
    "\n",
    "# 提取第一个视频文件的音频部分\n",
    "audio_1 = videoclip_1.audio\n",
    "\n",
    "# 将提取的音频和第二个视频文件进行合成\n",
    "videoclip_3 = videoclip_2.set_audio(audio_1)\n",
    "\n",
    "# 输出新的视频文件\n",
    "videoclip_3.write_videofile(\"file/export.mp4\", audio_codec=\"aac\")"
   ],
   "metadata": {
    "collapsed": false,
    "pycharm": {
     "name": "#%%\n"
    }
   }
  }
 ],
 "metadata": {
  "kernelspec": {
   "display_name": "Python 3",
   "language": "python",
   "name": "python3"
  },
  "language_info": {
   "codemirror_mode": {
    "name": "ipython",
    "version": 2
   },
   "file_extension": ".py",
   "mimetype": "text/x-python",
   "name": "python",
   "nbconvert_exporter": "python",
   "pygments_lexer": "ipython2",
   "version": "2.7.6"
  }
 },
 "nbformat": 4,
 "nbformat_minor": 0
}