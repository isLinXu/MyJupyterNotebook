{
 "cells": [
  {
   "cell_type": "code",
   "execution_count": null,
   "metadata": {
    "collapsed": true
   },
   "outputs": [],
   "source": [
    "from demo import load_checkpoints\n",
    "generator, kp_detector = load_checkpoints(config_path='first-order-model/config/vox-256.yaml',\n",
    "                                          checkpoint_path='data/data51886/checkpoint.tar')\n",
    "#加载配置文件并加载数据集"
   ]
  },
  {
   "cell_type": "code",
   "execution_count": null,
   "outputs": [],
   "source": [
    "from demo import load_checkpoints\n",
    "generator, kp_detector = load_checkpoints(config_path='first-order-model/config/fashion-256.yaml',\n",
    "                                          checkpoint_path='data/data51886/fashion.pth.tar')\n",
    "#加载配置文件并加载数据集"
   ],
   "metadata": {
    "collapsed": false,
    "pycharm": {
     "name": "#%%\n"
    }
   }
  },
  {
   "cell_type": "code",
   "execution_count": null,
   "outputs": [],
   "source": [
    "from demo import load_checkpoints\n",
    "generator, kp_detector = load_checkpoints(config_path='first-order-model/config/fashion-256.yaml',\n",
    "                                          checkpoint_path='data/data51886/fashion.pth.tar')\n",
    "#加载配置文件并加载数据集"
   ],
   "metadata": {
    "collapsed": false,
    "pycharm": {
     "name": "#%%\n"
    }
   }
  },
  {
   "cell_type": "code",
   "execution_count": null,
   "outputs": [],
   "source": [
    "import sys\n",
    "sys.path.append('/home/aistudio/external-libraries')\n",
    "sys.path.append('/home/aistudio/first-order-model')"
   ],
   "metadata": {
    "collapsed": false,
    "pycharm": {
     "name": "#%%\n"
    }
   }
  },
  {
   "cell_type": "code",
   "execution_count": 1,
   "outputs": [
    {
     "name": "stdout",
     "output_type": "stream",
     "text": [
      "Cloning into 'first-order-model'...\r\n",
      "remote: Enumerating objects: 243, done.\u001B[K\r\n",
      "error: RPC failed; curl 56 GnuTLS recv error (-9): Error decoding the received TLS packet./243), 1.07 MiB | 17.00 KiB/s   Receiving objects:  52% (128/243), 1.24 MiB | 24.00 KiB/s   Receiving objects:  52% (128/243), 1.49 MiB | 32.00 KiB/s   Receiving objects:  52% (128/243), 1.67 MiB | 36.00 KiB/s   Receiving objects:  52% (128/243), 2.10 MiB | 57.00 KiB/s   Receiving objects:  52% (128/243), 2.45 MiB | 73.00 KiB/s   Receiving objects:  52% (128/243), 2.74 MiB | 79.00 KiB/s   Receiving objects:  52% (128/243), 3.14 MiB | 90.00 KiB/s   Receiving objects:  52% (128/243), 3.63 MiB | 101.00 KiB/s   Receiving objects:  52% (128/243), 3.84 MiB | 85.00 KiB/s   Receiving objects:  52% (128/243), 4.00 MiB | 71.00 KiB/s   Receiving objects:  52% (128/243), 4.17 MiB | 63.00 KiB/s   Receiving objects:  52% (128/243), 4.34 MiB | 61.00 KiB/s   Receiving objects:  52% (128/243), 4.46 MiB | 42.00 KiB/s   Receiving objects:  52% (128/243), 4.66 MiB | 41.00 KiB/s   Receiving objects:  52% (128/243), 4.88 MiB | 45.00 KiB/s   Receiving objects:  52% (128/243), 4.99 MiB | 45.00 KiB/s   Receiving objects:  52% (128/243), 5.11 MiB | 57.00 KiB/s   Receiving objects:  52% (128/243), 5.27 MiB | 53.00 KiB/s   Receiving objects:  52% (128/243), 5.38 MiB | 44.00 KiB/s   Receiving objects:  52% (128/243), 5.60 MiB | 46.00 KiB/s   Receiving objects:  52% (128/243), 5.81 MiB | 44.00 KiB/s   Receiving objects:  52% (128/243), 6.00 MiB | 49.00 KiB/s   Receiving objects:  53% (129/243), 6.14 MiB | 48.00 KiB/s   Receiving objects:  53% (129/243), 6.32 MiB | 39.00 KiB/s   Receiving objects:  53% (129/243), 6.43 MiB | 35.00 KiB/s   Receiving objects:  53% (129/243), 6.65 MiB | 31.00 KiB/s   Receiving objects:  53% (129/243), 6.84 MiB | 35.00 KiB/s   Receiving objects:  53% (129/243), 6.88 MiB | 27.00 KiB/s   Receiving objects:  53% (129/243), 7.04 MiB | 31.00 KiB/s   Receiving objects:  53% (129/243), 7.12 MiB | 36.00 KiB/s   Receiving objects:  53% (129/243), 7.19 MiB | 50.00 KiB/s   Receiving objects:  53% (129/243), 7.21 MiB | 30.00 KiB/s   Receiving objects:  53% (129/243), 7.25 MiB | 22.00 KiB/s   Receiving objects:  53% (129/243), 7.43 MiB | 17.00 KiB/s   Receiving objects:  53% (129/243), 7.50 MiB | 15.00 KiB/s   Receiving objects:  53% (129/243), 7.71 MiB | 23.00 KiB/s   Receiving objects:  53% (129/243), 7.84 MiB | 28.00 KiB/s   Receiving objects:  53% (129/243), 7.93 MiB | 49.00 KiB/s   Receiving objects:  53% (129/243), 8.11 MiB | 77.00 KiB/s   Receiving objects:  53% (129/243), 8.28 MiB | 73.00 KiB/s   Receiving objects:  53% (129/243), 8.46 MiB | 66.00 KiB/s   Receiving objects:  53% (129/243), 8.93 MiB | 104.00 KiB/s   Receiving objects:  53% (129/243), 9.18 MiB | 107.00 KiB/s   Receiving objects:  53% (129/243), 9.40 MiB | 137.00 KiB/s   Receiving objects:  53% (129/243), 9.62 MiB | 84.00 KiB/s   Receiving objects:  53% (129/243), 9.76 MiB | 69.00 KiB/s   Receiving objects:  53% (129/243), 9.99 MiB | 61.00 KiB/s   Receiving objects:  53% (129/243), 10.54 MiB | 75.00 KiB/s   Receiving objects:  53% (129/243), 10.79 MiB | 87.00 KiB/s   Receiving objects:  53% (129/243), 10.89 MiB | 102.00 KiB/s   Receiving objects:  53% (129/243), 11.08 MiB | 118.00 KiB/s   Receiving objects:  53% (129/243), 11.23 MiB | 51.00 KiB/s   Receiving objects:  53% (129/243), 11.60 MiB | 66.00 KiB/s   Receiving objects:  53% (129/243), 11.80 MiB | 59.00 KiB/s   Receiving objects:  53% (129/243), 11.91 MiB | 54.00 KiB/s   Receiving objects:  53% (129/243), 12.04 MiB | 65.00 KiB/s   Receiving objects:  53% (129/243), 12.16 MiB | 66.00 KiB/s   Receiving objects:  53% (129/243), 12.27 MiB | 40.00 KiB/s   Receiving objects:  53% (129/243), 12.40 MiB | 43.00 KiB/s   Receiving objects:  53% (129/243), 12.68 MiB | 53.00 KiB/s   Receiving objects:  53% (129/243), 12.73 MiB | 54.00 KiB/s   Receiving objects:  53% (129/243), 12.89 MiB | 58.00 KiB/s   Receiving objects:  53% (129/243), 13.07 MiB | 66.00 KiB/s   Receiving objects:  53% (129/243), 13.18 MiB | 56.00 KiB/s   Receiving objects:  53% (129/243), 13.39 MiB | 51.00 KiB/s   Receiving objects:  53% (129/243), 13.57 MiB | 66.00 KiB/s   Receiving objects:  53% (129/243), 13.69 MiB | 51.00 KiB/s   Receiving objects:  53% (129/243), 13.75 MiB | 40.00 KiB/s   Receiving objects:  53% (129/243), 13.96 MiB | 44.00 KiB/s   Receiving objects:  53% (129/243), 14.01 MiB | 38.00 KiB/s   Receiving objects:  53% (129/243), 14.13 MiB | 32.00 KiB/s   Receiving objects:  53% (129/243), 14.18 MiB | 39.00 KiB/s   Receiving objects:  53% (129/243), 14.24 MiB | 33.00 KiB/s   Receiving objects:  53% (129/243), 14.29 MiB | 26.00 KiB/s   Receiving objects:  53% (129/243), 14.41 MiB | 32.00 KiB/s   Receiving objects:  53% (129/243), 14.54 MiB | 29.00 KiB/s   Receiving objects:  53% (129/243), 14.61 MiB | 32.00 KiB/s   Receiving objects:  53% (129/243), 14.68 MiB | 34.00 KiB/s   Receiving objects:  53% (129/243), 14.83 MiB | 51.00 KiB/s   Receiving objects:  53% (129/243), 14.91 MiB | 35.00 KiB/s   Receiving objects:  53% (129/243), 15.16 MiB | 51.00 KiB/s   Receiving objects:  53% (129/243), 15.36 MiB | 35.00 KiB/s   Receiving objects:  53% (129/243), 15.55 MiB | 41.00 KiB/s   Receiving objects:  53% (129/243), 15.57 MiB | 27.00 KiB/s   Receiving objects:  53% (129/243), 15.61 MiB | 21.00 KiB/s   Receiving objects:  53% (129/243), 15.67 MiB | 31.00 KiB/s   Receiving objects:  53% (129/243), 15.73 MiB | 20.00 KiB/s   Receiving objects:  53% (129/243), 15.79 MiB | 21.00 KiB/s   Receiving objects:  53% (129/243), 15.92 MiB | 29.00 KiB/s   Receiving objects:  53% (129/243), 16.00 MiB | 33.00 KiB/s   Receiving objects:  53% (129/243), 16.10 MiB | 39.00 KiB/s   Receiving objects:  53% (129/243), 16.25 MiB | 70.00 KiB/s   Receiving objects:  53% (129/243), 16.33 MiB | 54.00 KiB/s   Receiving objects:  53% (129/243), 16.43 MiB | 42.00 KiB/s   Receiving objects:  53% (129/243), 16.68 MiB | 48.00 KiB/s   Receiving objects:  53% (129/243), 16.85 MiB | 61.00 KiB/s   Receiving objects:  53% (129/243), 16.96 MiB | 46.00 KiB/s   Receiving objects:  53% (129/243), 17.30 MiB | 70.00 KiB/s   Receiving objects:  53% (129/243), 17.51 MiB | 70.00 KiB/s   Receiving objects:  53% (129/243), 17.64 MiB | 70.00 KiB/s   Receiving objects:  53% (129/243), 17.78 MiB | 69.00 KiB/s   Receiving objects:  53% (129/243), 17.82 MiB | 52.00 KiB/s   Receiving objects:  53% (129/243), 18.19 MiB | 65.00 KiB/s   Receiving objects:  53% (129/243), 18.29 MiB | 62.00 KiB/s   Receiving objects:  53% (129/243), 18.38 MiB | 48.00 KiB/s   Receiving objects:  53% (129/243), 18.53 MiB | 66.00 KiB/s   Receiving objects:  53% (129/243), 18.65 MiB | 47.00 KiB/s   Receiving objects:  53% (129/243), 18.74 MiB | 46.00 KiB/s   Receiving objects:  53% (129/243), 18.86 MiB | 57.00 KiB/s   Receiving objects:  53% (129/243), 18.96 MiB | 43.00 KiB/s   Receiving objects:  53% (129/243), 19.20 MiB | 46.00 KiB/s   Receiving objects:  53% (129/243), 19.35 MiB | 40.00 KiB/s   Receiving objects:  53% (130/243), 19.43 MiB | 38.00 KiB/s   Receiving objects:  53% (130/243), 19.48 MiB | 31.00 KiB/s   Receiving objects:  53% (130/243), 19.54 MiB | 17.00 KiB/s   Receiving objects:  53% (130/243), 19.62 MiB | 17.00 KiB/s   Receiving objects:  53% (130/243), 19.71 MiB | 25.00 KiB/s   Receiving objects:  53% (130/243), 19.88 MiB | 38.00 KiB/s   Receiving objects:  53% (130/243), 20.23 MiB | 59.00 KiB/s   Receiving objects:  53% (130/243), 20.52 MiB | 75.00 KiB/s   Receiving objects:  53% (130/243), 21.17 MiB | 112.00 KiB/s   Receiving objects:  53% (130/243), 21.39 MiB | 102.00 KiB/s   Receiving objects:  53% (130/243), 21.72 MiB | 114.00 KiB/s   Receiving objects:  53% (130/243), 21.93 MiB | 101.00 KiB/s   Receiving objects:  53% (130/243), 22.14 MiB | 82.00 KiB/s   Receiving objects:  53% (130/243), 22.44 MiB | 82.00 KiB/s   Receiving objects:  53% (130/243), 22.48 MiB | 67.00 KiB/s   Receiving objects:  53% (130/243), 22.68 MiB | 57.00 KiB/s   Receiving objects:  53% (130/243), 22.80 MiB | 66.00 KiB/s   Receiving objects:  53% (130/243), 22.91 MiB | 39.00 KiB/s   Receiving objects:  53% (130/243), 23.02 MiB | 39.00 KiB/s   Receiving objects:  53% (130/243), 23.16 MiB | 43.00 KiB/s   Receiving objects:  53% (130/243), 23.23 MiB | 36.00 KiB/s   Receiving objects:  53% (130/243), 23.29 MiB | 33.00 KiB/s   Receiving objects:  53% (130/243), 23.41 MiB | 30.00 KiB/s   Receiving objects:  53% (130/243), 23.46 MiB | 28.00 KiB/s   Receiving objects:  53% (130/243), 23.54 MiB | 24.00 KiB/s   Receiving objects:  53% (130/243), 23.64 MiB | 29.00 KiB/s   Receiving objects:  53% (130/243), 23.93 MiB | 45.00 KiB/s   Receiving objects:  53% (130/243), 23.94 MiB | 46.00 KiB/s   Receiving objects:  53% (130/243), 24.38 MiB | 81.00 KiB/s   Receiving objects:  53% (130/243), 24.74 MiB | 124.00 KiB/s   Receiving objects:  53% (130/243), 24.94 MiB | 154.00 KiB/s   Receiving objects:  53% (130/243), 25.30 MiB | 102.00 KiB/s   Receiving objects:  53% (130/243), 25.60 MiB | 106.00 KiB/s   Receiving objects:  53% (130/243), 25.85 MiB | 97.00 KiB/s   Receiving objects:  53% (130/243), 25.99 MiB | 92.00 KiB/s   Receiving objects:  53% (130/243), 26.17 MiB | 94.00 KiB/s   Receiving objects:  53% (130/243), 26.33 MiB | 74.00 KiB/s   Receiving objects:  53% (130/243), 26.50 MiB | 70.00 KiB/s   Receiving objects:  53% (130/243), 26.72 MiB | 67.00 KiB/s   Receiving objects:  53% (130/243), 27.11 MiB | 61.00 KiB/s   Receiving objects:  53% (130/243), 27.18 MiB | 54.00 KiB/s   Receiving objects:  53% (130/243), 27.29 MiB | 49.00 KiB/s   Receiving objects:  53% (131/243), 27.53 MiB | 49.00 KiB/s   Receiving objects:  53% (131/243), 27.71 MiB | 47.00 KiB/s   Receiving objects:  53% (131/243), 28.08 MiB | 62.00 KiB/s   Receiving objects:  53% (131/243), 28.43 MiB | 81.00 KiB/s   Receiving objects:  53% (131/243), 28.86 MiB | 91.00 KiB/s   Receiving objects:  53% (131/243), 29.28 MiB | 83.00 KiB/s   Receiving objects:  53% (131/243), 29.48 MiB | 87.00 KiB/s   Receiving objects:  54% (132/243), 29.58 MiB | 79.00 KiB/s   Receiving objects:  54% (132/243), 29.85 MiB | 85.00 KiB/s   Receiving objects:  54% (132/243), 30.15 MiB | 93.00 KiB/s   Receiving objects:  54% (132/243), 30.34 MiB | 104.00 KiB/s   Receiving objects:  54% (132/243), 30.68 MiB | 57.00 KiB/s   Receiving objects:  54% (132/243), 31.60 MiB | 90.00 KiB/s   Receiving objects:  54% (132/243), 31.80 MiB | 81.00 KiB/s   Receiving objects:  54% (132/243), 32.24 MiB | 74.00 KiB/s   Receiving objects:  54% (132/243), 32.82 MiB | 129.00 KiB/s   Receiving objects:  54% (132/243), 32.92 MiB | 68.00 KiB/s   Receiving objects:  54% (132/243), 33.22 MiB | 73.00 KiB/s   Receiving objects:  54% (132/243), 33.40 MiB | 85.00 KiB/s   Receiving objects:  54% (132/243), 33.75 MiB | 85.00 KiB/s   Receiving objects:  54% (132/243), 34.07 MiB | 83.00 KiB/s   Receiving objects:  54% (132/243), 34.36 MiB | 68.00 KiB/s   Receiving objects:  54% (132/243), 34.51 MiB | 60.00 KiB/s   Receiving objects:  54% (133/243), 34.70 MiB | 59.00 KiB/s   Receiving objects:  54% (133/243), 34.86 MiB | 51.00 KiB/s   Receiving objects:  54% (133/243), 35.04 MiB | 58.00 KiB/s   Receiving objects:  54% (133/243), 35.16 MiB | 38.00 KiB/s   Receiving objects:  54% (133/243), 35.50 MiB | 66.00 KiB/s   Receiving objects:  54% (133/243), 35.79 MiB | 89.00 KiB/s   Receiving objects:  54% (133/243), 35.96 MiB | 108.00 KiB/s   Receiving objects:  54% (133/243), 36.23 MiB | 110.00 KiB/s   Receiving objects:  54% (133/243), 36.39 MiB | 99.00 KiB/s   Receiving objects:  54% (133/243), 36.54 MiB | 88.00 KiB/s   Receiving objects:  54% (133/243), 36.80 MiB | 106.00 KiB/s   Receiving objects:  54% (133/243), 36.85 MiB | 72.00 KiB/s   Receiving objects:  54% (133/243), 37.10 MiB | 88.00 KiB/s   Receiving objects:  54% (133/243), 37.26 MiB | 74.00 KiB/s   Receiving objects:  54% (133/243), 37.74 MiB | 93.00 KiB/s   \r\n",
      "fatal: the remote end hung up unexpectedly\r\n",
      "fatal: early EOF\r\n",
      "fatal: index-pack failed\r\n",
      "/bin/bash: line 0: cd: /home/aistudio/first-order-model: No such file or directory\r\n",
      "Looking in indexes: https://mirrors.aliyun.com/pypi/simple/\r\n",
      "Requirement already satisfied: moviepy in /home/linxu/Anaconda/envs/dev/lib/python3.7/site-packages (1.0.3)\r\n",
      "Collecting cffi==1.11.5\r\n",
      "  Downloading https://mirrors.aliyun.com/pypi/packages/51/7b/d1014289d0578c3522b2798b9cb87c65e5b36798bd3ae68a75fa1fe09e78/cffi-1.11.5-cp37-cp37m-manylinux1_x86_64.whl (421 kB)\r\n",
      "\u001B[K     |████████████████████████████████| 421 kB 26 kB/s eta 0:00:01\r\n",
      "\u001B[33mWARNING: Retrying (Retry(total=4, connect=None, read=None, redirect=None, status=None)) after connection broken by 'ProtocolError('Connection aborted.', RemoteDisconnected('Remote end closed connection without response'))': /pypi/simple/cloudpickle/\u001B[0m\r\n",
      "\u001B[?25hCollecting cloudpickle==1.2.1\r\n",
      "  Downloading https://mirrors.aliyun.com/pypi/packages/09/f4/4a080c349c1680a2086196fcf0286a65931708156f39568ed7051e42ff6a/cloudpickle-1.2.1-py2.py3-none-any.whl (25 kB)\r\n",
      "Collecting cycler==0.10.0\r\n",
      "  Downloading https://mirrors.aliyun.com/pypi/packages/f7/d2/e07d3ebb2bd7af696440ce7e754c59dd546ffe1bbe732c8ab68b9c834e61/cycler-0.10.0-py2.py3-none-any.whl (6.5 kB)\r\n",
      "Collecting dask==0.18.2\r\n",
      "  Downloading https://mirrors.aliyun.com/pypi/packages/91/52/427541141707ac533a6dcafa3bff7ff8b57ded3c9ea84d6ec014d15fbbff/dask-0.18.2-py2.py3-none-any.whl (645 kB)\r\n",
      "\u001B[K     |████████████████████████████████| 645 kB 26 kB/s eta 0:00:01\r\n",
      "\u001B[?25hCollecting decorator==4.3.0\r\n",
      "  Downloading https://mirrors.aliyun.com/pypi/packages/bc/bb/a24838832ba35baf52f32ab1a49b906b5f82fb7c76b2f6a7e35e140bac30/decorator-4.3.0-py2.py3-none-any.whl (9.2 kB)\r\n",
      "Collecting imageio==2.5.0\r\n",
      "  Downloading https://mirrors.aliyun.com/pypi/packages/af/0a/943c965d372dae0b1f1482677d29030ab834351a61a9a632fd62f27f1523/imageio-2.5.0-py3-none-any.whl (3.3 MB)\r\n",
      "\u001B[K     |████████████████████████████████| 3.3 MB 58 kB/s eta 0:00:017\r\n",
      "\u001B[?25hCollecting kiwisolver==1.0.1\r\n",
      "  Downloading https://mirrors.aliyun.com/pypi/packages/5c/7e/d6cae2f241ba474a2665f24b480bf4e247036d63939dda2bbc4d2ee5069d/kiwisolver-1.0.1-cp37-cp37m-manylinux1_x86_64.whl (89 kB)\r\n",
      "\u001B[K     |████████████████████████████████| 89 kB 24 kB/s eta 0:00:01\r\n",
      "\u001B[?25hCollecting matplotlib==2.2.2\r\n",
      "  Downloading https://mirrors.aliyun.com/pypi/packages/da/1d/e6d9af0b5045597869537391f1036ab841c613c3f3e40f16bbc1d75450ee/matplotlib-2.2.2-cp37-cp37m-manylinux1_x86_64.whl (12.6 MB)\r\n",
      "\u001B[K     |████████████████████████████████| 12.6 MB 32 kB/s eta 0:00:013\r\n",
      "\u001B[?25hCollecting networkx==2.1\r\n",
      "  Downloading https://mirrors.aliyun.com/pypi/packages/11/42/f951cc6838a4dff6ce57211c4d7f8444809ccbe2134179950301e5c4c83c/networkx-2.1.zip (1.6 MB)\r\n",
      "\u001B[K     |████████████████████████████████| 1.6 MB 5.8 kB/s eta 0:00:01\r\n",
      "\u001B[?25hCollecting numpy==1.15.0\r\n",
      "  Downloading https://mirrors.aliyun.com/pypi/packages/27/92/c01d3a6c58ceab0e6ec36ad3af41bc076014cc916afcb979ab4c9558f347/numpy-1.15.0-cp37-cp37m-manylinux1_x86_64.whl (13.8 MB)\r\n",
      "\u001B[K     |████▋                           | 2.0 MB 24 kB/s eta 0:08:102\u001B[31mERROR: Exception:\r\n",
      "Traceback (most recent call last):\r\n",
      "  File \"/home/linxu/Anaconda/envs/dev/lib/python3.7/site-packages/pip/_vendor/urllib3/response.py\", line 438, in _error_catcher\r\n",
      "    yield\r\n",
      "  File \"/home/linxu/Anaconda/envs/dev/lib/python3.7/site-packages/pip/_vendor/urllib3/response.py\", line 519, in read\r\n",
      "    data = self._fp.read(amt) if not fp_closed else b\"\"\r\n",
      "  File \"/home/linxu/Anaconda/envs/dev/lib/python3.7/site-packages/pip/_vendor/cachecontrol/filewrapper.py\", line 62, in read\r\n",
      "    data = self.__fp.read(amt)\r\n",
      "  File \"/home/linxu/Anaconda/envs/dev/lib/python3.7/http/client.py\", line 465, in read\r\n",
      "    n = self.readinto(b)\r\n",
      "  File \"/home/linxu/Anaconda/envs/dev/lib/python3.7/http/client.py\", line 509, in readinto\r\n",
      "    n = self.fp.readinto(b)\r\n",
      "  File \"/home/linxu/Anaconda/envs/dev/lib/python3.7/socket.py\", line 589, in readinto\r\n",
      "    return self._sock.recv_into(b)\r\n",
      "  File \"/home/linxu/Anaconda/envs/dev/lib/python3.7/ssl.py\", line 1071, in recv_into\r\n",
      "    return self.read(nbytes, buffer)\r\n",
      "  File \"/home/linxu/Anaconda/envs/dev/lib/python3.7/ssl.py\", line 929, in read\r\n",
      "    return self._sslobj.read(len, buffer)\r\n",
      "socket.timeout: The read operation timed out\r\n",
      "\r\n",
      "During handling of the above exception, another exception occurred:\r\n",
      "\r\n",
      "Traceback (most recent call last):\r\n",
      "  File \"/home/linxu/Anaconda/envs/dev/lib/python3.7/site-packages/pip/_internal/cli/base_command.py\", line 173, in _main\r\n",
      "    status = self.run(options, args)\r\n",
      "  File \"/home/linxu/Anaconda/envs/dev/lib/python3.7/site-packages/pip/_internal/cli/req_command.py\", line 203, in wrapper\r\n",
      "    return func(self, options, args)\r\n",
      "  File \"/home/linxu/Anaconda/envs/dev/lib/python3.7/site-packages/pip/_internal/commands/install.py\", line 316, in run\r\n",
      "    reqs, check_supported_wheels=not options.target_dir\r\n",
      "  File \"/home/linxu/Anaconda/envs/dev/lib/python3.7/site-packages/pip/_internal/resolution/resolvelib/resolver.py\", line 95, in resolve\r\n",
      "    collected.requirements, max_rounds=try_to_avoid_resolution_too_deep\r\n",
      "  File \"/home/linxu/Anaconda/envs/dev/lib/python3.7/site-packages/pip/_vendor/resolvelib/resolvers.py\", line 472, in resolve\r\n",
      "    state = resolution.resolve(requirements, max_rounds=max_rounds)\r\n",
      "  File \"/home/linxu/Anaconda/envs/dev/lib/python3.7/site-packages/pip/_vendor/resolvelib/resolvers.py\", line 341, in resolve\r\n",
      "    self._add_to_criteria(self.state.criteria, r, parent=None)\r\n",
      "  File \"/home/linxu/Anaconda/envs/dev/lib/python3.7/site-packages/pip/_vendor/resolvelib/resolvers.py\", line 172, in _add_to_criteria\r\n",
      "    if not criterion.candidates:\r\n",
      "  File \"/home/linxu/Anaconda/envs/dev/lib/python3.7/site-packages/pip/_vendor/resolvelib/structs.py\", line 151, in __bool__\r\n",
      "    return bool(self._sequence)\r\n",
      "  File \"/home/linxu/Anaconda/envs/dev/lib/python3.7/site-packages/pip/_internal/resolution/resolvelib/found_candidates.py\", line 140, in __bool__\r\n",
      "    return any(self)\r\n",
      "  File \"/home/linxu/Anaconda/envs/dev/lib/python3.7/site-packages/pip/_internal/resolution/resolvelib/found_candidates.py\", line 128, in <genexpr>\r\n",
      "    return (c for c in iterator if id(c) not in self._incompatible_ids)\r\n",
      "  File \"/home/linxu/Anaconda/envs/dev/lib/python3.7/site-packages/pip/_internal/resolution/resolvelib/found_candidates.py\", line 32, in _iter_built\r\n",
      "    candidate = func()\r\n",
      "  File \"/home/linxu/Anaconda/envs/dev/lib/python3.7/site-packages/pip/_internal/resolution/resolvelib/factory.py\", line 209, in _make_candidate_from_link\r\n",
      "    version=version,\r\n",
      "  File \"/home/linxu/Anaconda/envs/dev/lib/python3.7/site-packages/pip/_internal/resolution/resolvelib/candidates.py\", line 301, in __init__\r\n",
      "    version=version,\r\n",
      "  File \"/home/linxu/Anaconda/envs/dev/lib/python3.7/site-packages/pip/_internal/resolution/resolvelib/candidates.py\", line 156, in __init__\r\n",
      "    self.dist = self._prepare()\r\n",
      "  File \"/home/linxu/Anaconda/envs/dev/lib/python3.7/site-packages/pip/_internal/resolution/resolvelib/candidates.py\", line 227, in _prepare\r\n",
      "    dist = self._prepare_distribution()\r\n",
      "  File \"/home/linxu/Anaconda/envs/dev/lib/python3.7/site-packages/pip/_internal/resolution/resolvelib/candidates.py\", line 306, in _prepare_distribution\r\n",
      "    self._ireq, parallel_builds=True\r\n",
      "  File \"/home/linxu/Anaconda/envs/dev/lib/python3.7/site-packages/pip/_internal/operations/prepare.py\", line 508, in prepare_linked_requirement\r\n",
      "    return self._prepare_linked_requirement(req, parallel_builds)\r\n",
      "  File \"/home/linxu/Anaconda/envs/dev/lib/python3.7/site-packages/pip/_internal/operations/prepare.py\", line 552, in _prepare_linked_requirement\r\n",
      "    self.download_dir, hashes\r\n",
      "  File \"/home/linxu/Anaconda/envs/dev/lib/python3.7/site-packages/pip/_internal/operations/prepare.py\", line 243, in unpack_url\r\n",
      "    hashes=hashes,\r\n",
      "  File \"/home/linxu/Anaconda/envs/dev/lib/python3.7/site-packages/pip/_internal/operations/prepare.py\", line 102, in get_http_url\r\n",
      "    from_path, content_type = download(link, temp_dir.path)\r\n",
      "  File \"/home/linxu/Anaconda/envs/dev/lib/python3.7/site-packages/pip/_internal/network/download.py\", line 145, in __call__\r\n",
      "    for chunk in chunks:\r\n",
      "  File \"/home/linxu/Anaconda/envs/dev/lib/python3.7/site-packages/pip/_internal/cli/progress_bars.py\", line 144, in iter\r\n",
      "    for x in it:\r\n",
      "  File \"/home/linxu/Anaconda/envs/dev/lib/python3.7/site-packages/pip/_internal/network/utils.py\", line 87, in response_chunks\r\n",
      "    decode_content=False,\r\n",
      "  File \"/home/linxu/Anaconda/envs/dev/lib/python3.7/site-packages/pip/_vendor/urllib3/response.py\", line 576, in stream\r\n",
      "    data = self.read(amt=amt, decode_content=decode_content)\r\n",
      "  File \"/home/linxu/Anaconda/envs/dev/lib/python3.7/site-packages/pip/_vendor/urllib3/response.py\", line 541, in read\r\n",
      "    raise IncompleteRead(self._fp_bytes_read, self.length_remaining)\r\n",
      "  File \"/home/linxu/Anaconda/envs/dev/lib/python3.7/contextlib.py\", line 130, in __exit__\r\n",
      "    self.gen.throw(type, value, traceback)\r\n",
      "  File \"/home/linxu/Anaconda/envs/dev/lib/python3.7/site-packages/pip/_vendor/urllib3/response.py\", line 443, in _error_catcher\r\n",
      "    raise ReadTimeoutError(self._pool, None, \"Read timed out.\")\r\n",
      "pip._vendor.urllib3.exceptions.ReadTimeoutError: HTTPSConnectionPool(host='mirrors.aliyun.com', port=443): Read timed out.\u001B[0m\r\n"
     ]
    }
   ],
   "source": [
    "!git clone https://gitee.com/xiaoxu12315/first-order-model.git\n",
    "#从码云克隆仓库\n",
    "!cd /home/aistudio/first-order-model\n",
    "#进入工作目录\n",
    "!pip install -i https://mirrors.aliyun.com/pypi/simple/ moviepy cffi==1.11.5 cloudpickle==1.2.1 cycler==0.10.0 dask==0.18.2 decorator==4.3.0 imageio==2.5.0 kiwisolver==1.0.1 matplotlib==2.2.2 networkx==2.1 numpy==1.15.0 pandas==0.23.4 Pillow==5.2.0 pycparser==2.18 pygit==0.1 pyparsing==2.2.0 python-dateutil==2.7.3 pytz==2018.5 PyWavelets==0.5.2 PyYAML==5.1 scikit-image==0.14.0 scikit-learn==0.19.2 scipy==1.1.0 six==1.14.0 toolz==0.9.0 torch==1.0.0 torchvision==0.2.1 tqdm==4.24.0\n",
    "#安装依赖"
   ],
   "metadata": {
    "collapsed": false,
    "pycharm": {
     "name": "#%%\n"
    }
   }
  },
  {
   "cell_type": "code",
   "execution_count": null,
   "outputs": [],
   "source": [
    "import imageio\n",
    "import numpy as np\n",
    "import matplotlib.pyplot as plt\n",
    "import matplotlib.animation as animation\n",
    "from skimage.transform import resize\n",
    "from IPython.display import HTML\n",
    "import warnings\n",
    "warnings.filterwarnings(\"ignore\")\n",
    "\n",
    "source_image = imageio.imread('file/import.png')\n",
    "driving_video = imageio.mimread('file/import.mp4')\n",
    "\n",
    "\n",
    "#调整图片和视频分辨率\n",
    "\n",
    "source_image = resize(source_image, (256, 256))[..., :3]\n",
    "driving_video = [resize(frame, (256, 256))[..., :3] for frame in driving_video]\n",
    "\n",
    "def display(source, driving, generated=None):\n",
    "    fig = plt.figure(figsize=(8 + 4 * (generated is not None), 6))\n",
    "\n",
    "    ims = []\n",
    "    for i in range(len(driving)):\n",
    "        cols = [source]\n",
    "        cols.append(driving[i])\n",
    "        if generated is not None:\n",
    "            cols.append(generated[i])\n",
    "        im = plt.imshow(np.concatenate(cols, axis=1), animated=True)\n",
    "        plt.axis('off')\n",
    "        ims.append([im])\n",
    "\n",
    "    ani = animation.ArtistAnimation(fig, ims, interval=50, repeat_delay=1000)\n",
    "    plt.close()\n",
    "    return ani\n",
    "\n",
    "\n",
    "HTML(display(source_image, driving_video).to_html5_video())"
   ],
   "metadata": {
    "collapsed": false,
    "pycharm": {
     "name": "#%%\n"
    }
   }
  },
  {
   "cell_type": "code",
   "execution_count": null,
   "outputs": [],
   "source": [
    "from demo import load_checkpoints\n",
    "generator, kp_detector = load_checkpoints(config_path='first-order-model/config/vox-256.yaml',\n",
    "                                          checkpoint_path='data/data51886/checkpoint.tar')\n",
    "#加载配置文件并加载数据集"
   ],
   "metadata": {
    "collapsed": false,
    "pycharm": {
     "name": "#%%\n"
    }
   }
  },
  {
   "cell_type": "code",
   "execution_count": null,
   "outputs": [],
   "source": [
    "from demo import make_animation\n",
    "from skimage import img_as_ubyte\n",
    "\n",
    "predictions = make_animation(source_image, driving_video, generator, kp_detector, relative=True)\n",
    "\n",
    "#保存结果\n",
    "imageio.mimsave('file/result-10fps.mp4', [img_as_ubyte(frame) for frame in predictions])\n",
    "\n",
    "HTML(display(source_image, driving_video, predictions).to_html5_video())"
   ],
   "metadata": {
    "collapsed": false,
    "pycharm": {
     "name": "#%%\n"
    }
   }
  },
  {
   "cell_type": "code",
   "execution_count": null,
   "outputs": [],
   "source": [
    "import cv2\n",
    "from cv2 import VideoWriter,VideoWriter_fourcc\n",
    "\n",
    "video_root =\"file/import.mp4\"\n",
    "cap = cv2.VideoCapture(video_root)\n",
    "fps = cap.get(cv2.CAP_PROP_FPS)\n",
    "video_width = int(cap.get(cv2.CAP_PROP_FRAME_WIDTH))\n",
    "video_height = int(cap.get(cv2.CAP_PROP_FRAME_HEIGHT))\n",
    "resize_width = 256\n",
    "resize_height = 256\n",
    "double_fps = 2*fps\n",
    "print(video_height)\n",
    "print(video_width)\n",
    "print(fps)"
   ],
   "metadata": {
    "collapsed": false,
    "pycharm": {
     "name": "#%%\n"
    }
   }
  },
  {
   "cell_type": "code",
   "execution_count": null,
   "outputs": [],
   "source": [
    "import cv2\n",
    "from cv2 import VideoWriter,VideoWriter_fourcc\n",
    "\n",
    "video_root =\"file/result-10fps.mp4\"\n",
    "out_root = \"file/result-origin-fps.mp4\"\n",
    "cap = cv2.VideoCapture(video_root)\n",
    "resize_width = 256\n",
    "resize_height = 256\n",
    "double_fps = 2*fps\n",
    "\n",
    "fourcc = cv2.VideoWriter_fourcc('m','p','4','v')\n",
    "videoWriter = cv2.VideoWriter(out_root,fourcc,fps,(256,256))\n",
    "\n",
    "success = cap.isOpened()\n",
    "while (success):\n",
    "    success,frame = cap.read()\n",
    "    print(\"Read a new frame:\",success)\n",
    "    if not success:\n",
    "        break\n",
    "    frame = cv2.resize(frame,(256,256))\n",
    "    videoWriter.write(frame)\n",
    "videoWriter.release()"
   ],
   "metadata": {
    "collapsed": false,
    "pycharm": {
     "name": "#%%\n"
    }
   }
  },
  {
   "cell_type": "code",
   "execution_count": null,
   "outputs": [],
   "source": [
    "from moviepy.editor import *\n",
    "\n",
    "# 读取2个视频文件\n",
    "videoclip_1 = VideoFileClip(\"file/import.mp4\")\n",
    "videoclip_2 = VideoFileClip(\"file/result-origin-fps.mp4\")\n",
    "\n",
    "# 提取第一个视频文件的音频部分\n",
    "audio_1 = videoclip_1.audio\n",
    "\n",
    "# 将提取的音频和第二个视频文件进行合成\n",
    "videoclip_3 = videoclip_2.set_audio(audio_1)\n",
    "\n",
    "# 输出新的视频文件\n",
    "videoclip_3.write_videofile(\"file/export.mp4\", audio_codec=\"aac\")"
   ],
   "metadata": {
    "collapsed": false,
    "pycharm": {
     "name": "#%%\n"
    }
   }
  }
 ],
 "metadata": {
  "kernelspec": {
   "display_name": "Python 3",
   "language": "python",
   "name": "python3"
  },
  "language_info": {
   "codemirror_mode": {
    "name": "ipython",
    "version": 2
   },
   "file_extension": ".py",
   "mimetype": "text/x-python",
   "name": "python",
   "nbconvert_exporter": "python",
   "pygments_lexer": "ipython2",
   "version": "2.7.6"
  }
 },
 "nbformat": 4,
 "nbformat_minor": 0
}