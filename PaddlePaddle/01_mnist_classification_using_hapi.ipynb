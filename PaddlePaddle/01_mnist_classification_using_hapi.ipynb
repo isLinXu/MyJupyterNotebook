{
 "cells": [
  {
   "cell_type": "code",
   "execution_count": 1,
   "metadata": {
    "collapsed": false,
    "jupyter": {
     "outputs_hidden": false
    }
   },
   "outputs": [
    {
     "name": "stdout",
     "output_type": "stream",
     "text": [
      "2.3.0\n"
     ]
    }
   ],
   "source": [
    "import paddle\n",
    "print(paddle.__version__)"
   ]
  },
  {
   "cell_type": "code",
   "execution_count": 2,
   "metadata": {
    "collapsed": false,
    "jupyter": {
     "outputs_hidden": false
    }
   },
   "outputs": [
    {
     "name": "stderr",
     "output_type": "stream",
     "text": [
      "Cache file /home/linxu/.cache/paddle/dataset/mnist/train-images-idx3-ubyte.gz not found, downloading https://dataset.bj.bcebos.com/mnist/train-images-idx3-ubyte.gz \n",
      "Begin to download\n"
     ]
    },
    {
     "name": "stdout",
     "output_type": "stream",
     "text": [
      "item 2421/2421 [============================>.] - ETA: 0s - 1ms/item"
     ]
    },
    {
     "name": "stderr",
     "output_type": "stream",
     "text": [
      "\n",
      "Download finished\n",
      "Cache file /home/linxu/.cache/paddle/dataset/mnist/train-labels-idx1-ubyte.gz not found, downloading https://dataset.bj.bcebos.com/mnist/train-labels-idx1-ubyte.gz \n",
      "Begin to download\n"
     ]
    },
    {
     "name": "stdout",
     "output_type": "stream",
     "text": [
      "item 8/8 [============================>.] - ETA: 0s - 15ms/item"
     ]
    },
    {
     "name": "stderr",
     "output_type": "stream",
     "text": [
      "\n",
      "Download finished\n",
      "Cache file /home/linxu/.cache/paddle/dataset/mnist/t10k-images-idx3-ubyte.gz not found, downloading https://dataset.bj.bcebos.com/mnist/t10k-images-idx3-ubyte.gz \n",
      "Begin to download\n"
     ]
    },
    {
     "name": "stdout",
     "output_type": "stream",
     "text": [
      "item 403/403 [============================>.] - ETA: 0s - 4ms/item"
     ]
    },
    {
     "name": "stderr",
     "output_type": "stream",
     "text": [
      "\n",
      "Download finished\n",
      "Cache file /home/linxu/.cache/paddle/dataset/mnist/t10k-labels-idx1-ubyte.gz not found, downloading https://dataset.bj.bcebos.com/mnist/t10k-labels-idx1-ubyte.gz \n",
      "Begin to download\n"
     ]
    },
    {
     "name": "stdout",
     "output_type": "stream",
     "text": [
      "item 2/2 [===========================>..] - ETA: 0s - 835us/item"
     ]
    },
    {
     "name": "stderr",
     "output_type": "stream",
     "text": [
      "\n",
      "Download finished\n",
      "W0706 21:46:44.344516 97810 gpu_context.cc:278] Please NOTE: device: 0, GPU Compute Capability: 8.6, Driver API Version: 11.6, Runtime API Version: 11.2\n",
      "W0706 21:46:44.353590 97810 gpu_context.cc:306] device: 0, cuDNN Version: 8.1.\n"
     ]
    }
   ],
   "source": [
    "# normalize data: output[channel] = (input[channel] - mean[channel]) / std[channel]\n",
    "normalize = paddle.vision.transforms.Normalize(mean=[0.0], std=[255.])\n",
    "train_dataset = paddle.vision.datasets.MNIST(mode='train', transform=normalize)\n",
    "val_dataset = paddle.vision.datasets.MNIST(mode='test', transform=normalize)\n",
    "\n",
    "mnist = paddle.nn.Sequential(\n",
    "    paddle.nn.Flatten(),\n",
    "    paddle.nn.Linear(784, 1024),\n",
    "    paddle.nn.ReLU(),\n",
    "    paddle.nn.Linear(1024, 512),\n",
    "    paddle.nn.ReLU(),\n",
    "    paddle.nn.Linear(512, 10)\n",
    ")\n",
    "model = paddle.Model(mnist)"
   ]
  },
  {
   "cell_type": "code",
   "execution_count": 3,
   "metadata": {
    "collapsed": false,
    "jupyter": {
     "outputs_hidden": false
    }
   },
   "outputs": [
    {
     "name": "stdout",
     "output_type": "stream",
     "text": [
      "---------------------------------------------------------------------------\n",
      " Layer (type)       Input Shape          Output Shape         Param #    \n",
      "===========================================================================\n",
      "   Flatten-1       [[1, 28, 28]]           [1, 784]              0       \n",
      "   Linear-1          [[1, 784]]           [1, 1024]           803,840    \n",
      "    ReLU-1          [[1, 1024]]           [1, 1024]              0       \n",
      "   Linear-2         [[1, 1024]]            [1, 512]           524,800    \n",
      "    ReLU-2           [[1, 512]]            [1, 512]              0       \n",
      "   Linear-3          [[1, 512]]            [1, 10]             5,130     \n",
      "===========================================================================\n",
      "Total params: 1,333,770\n",
      "Trainable params: 1,333,770\n",
      "Non-trainable params: 0\n",
      "---------------------------------------------------------------------------\n",
      "Input size (MB): 0.00\n",
      "Forward/backward pass size (MB): 0.03\n",
      "Params size (MB): 5.09\n",
      "Estimated Total Size (MB): 5.12\n",
      "---------------------------------------------------------------------------\n",
      "\n",
      "{'total_params': 1333770, 'trainable_params': 1333770}\n"
     ]
    }
   ],
   "source": [
    "print(model.summary((1, 28, 28)))"
   ]
  },
  {
   "cell_type": "code",
   "execution_count": 4,
   "metadata": {
    "collapsed": false,
    "jupyter": {
     "outputs_hidden": false
    }
   },
   "outputs": [
    {
     "name": "stdout",
     "output_type": "stream",
     "text": [
      "The loss value printed in the log is the current step, and the metric is the average value of previous steps.\n",
      "Epoch 1/5\n",
      "step 1875/1875 [==============================] - loss: 0.1604 - acc: 0.9450 - 4ms/step          \n",
      "Eval begin...\n",
      "step 313/313 [==============================] - loss: 0.0210 - acc: 0.9705 - 3ms/step          \n",
      "Eval samples: 10000\n",
      "Epoch 2/5\n",
      "step 1875/1875 [==============================] - loss: 0.0294 - acc: 0.9747 - 4ms/step          \n",
      "Eval begin...\n",
      "step 313/313 [==============================] - loss: 0.0618 - acc: 0.9668 - 3ms/step          \n",
      "Eval samples: 10000\n",
      "Epoch 3/5\n",
      "step 1875/1875 [==============================] - loss: 0.0048 - acc: 0.9823 - 4ms/step              \n",
      "Eval begin...\n",
      "step 313/313 [==============================] - loss: 0.0059 - acc: 0.9809 - 3ms/step          \n",
      "Eval samples: 10000\n",
      "Epoch 4/5\n",
      "step 1875/1875 [==============================] - loss: 3.3314e-04 - acc: 0.9858 - 4ms/step      \n",
      "Eval begin...\n",
      "step 313/313 [==============================] - loss: 3.4160e-04 - acc: 0.9790 - 3ms/step      \n",
      "Eval samples: 10000\n",
      "Epoch 5/5\n",
      "step 1875/1875 [==============================] - loss: 0.0474 - acc: 0.9897 - 4ms/step          \n",
      "Eval begin...\n",
      "step 313/313 [==============================] - loss: 0.0407 - acc: 0.9694 - 3ms/step          \n",
      "Eval samples: 10000\n"
     ]
    }
   ],
   "source": [
    "model.prepare(paddle.optimizer.Adam(parameters=model.parameters()), \r\n",
    "              paddle.nn.CrossEntropyLoss(),\r\n",
    "              paddle.metric.Accuracy())\r\n",
    "\r\n",
    "model.fit(train_dataset, val_dataset, epochs=5, batch_size=32, verbose=1)"
   ]
  },
  {
   "cell_type": "code",
   "execution_count": null,
   "metadata": {
    "collapsed": false,
    "jupyter": {
     "outputs_hidden": false
    }
   },
   "outputs": [],
   "source": []
  }
 ],
 "metadata": {
  "kernelspec": {
   "display_name": "Python 3",
   "language": "python",
   "name": "python3"
  },
  "language_info": {
   "codemirror_mode": {
    "name": "ipython",
    "version": 3
   },
   "file_extension": ".py",
   "mimetype": "text/x-python",
   "name": "python",
   "nbconvert_exporter": "python",
   "pygments_lexer": "ipython3",
   "version": "3.7.7"
  }
 },
 "nbformat": 4,
 "nbformat_minor": 4
}