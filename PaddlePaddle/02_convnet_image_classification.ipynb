{
 "cells": [
  {
   "cell_type": "markdown",
   "metadata": {},
   "source": [
    "# 使用卷积神经网络进行图像分类\n",
    "\n",
    "**作者:** [PaddlePaddle](https://github.com/PaddlePaddle) <br>\n",
    "**日期:** 2021.01 <br>\n",
    "**摘要:** 本示例教程将会演示如何使用飞桨的卷积神经网络来完成图像分类任务。这是一个较为简单的示例，将会使用一个由三个卷积层组成的网络完成[cifar10](https://www.cs.toronto.edu/~kriz/cifar.html)数据集的图像分类任务。"
   ]
  },
  {
   "cell_type": "markdown",
   "metadata": {},
   "source": [
    "## 一、环境配置\n",
    "\n",
    "本教程基于Paddle 2.0 编写，如果您的环境不是本版本，请先参考官网[安装](https://www.paddlepaddle.org.cn/install/quick) Paddle 2.0 。"
   ]
  },
  {
   "cell_type": "code",
   "execution_count": 2,
   "metadata": {},
   "outputs": [
    {
     "name": "stdout",
     "output_type": "stream",
     "text": [
      "2.3.0\n"
     ]
    }
   ],
   "source": [
    "import paddle\n",
    "import paddle.nn.functional as F\n",
    "from paddle.vision.transforms import ToTensor\n",
    "import numpy as np\n",
    "import matplotlib.pyplot as plt\n",
    "\n",
    "print(paddle.__version__)"
   ]
  },
  {
   "cell_type": "markdown",
   "metadata": {},
   "source": [
    "## 二、加载数据集\n",
    "\n",
    "我们将会使用飞桨提供的API完成数据集的下载并为后续的训练任务准备好数据迭代器。cifar10数据集由60000张大小为32 * 32的彩色图片组成，其中有50000张图片组成了训练集，另外10000张图片组成了测试集。这些图片分为10个类别，我们的任务是训练一个模型能够把图片进行正确的分类。"
   ]
  },
  {
   "cell_type": "code",
   "execution_count": 3,
   "metadata": {},
   "outputs": [],
   "source": [
    "transform = ToTensor()\n",
    "cifar10_train = paddle.vision.datasets.Cifar10(mode='train',\n",
    "                                               transform=transform)\n",
    "cifar10_test = paddle.vision.datasets.Cifar10(mode='test',\n",
    "                                              transform=transform)"
   ]
  },
  {
   "cell_type": "markdown",
   "metadata": {},
   "source": [
    "## 三、组建网络\n",
    "接下来我们使用飞桨定义一个使用了三个二维卷积（ ``Conv2D`` ) 且每次卷积之后使用 ``relu`` 激活函数，两个二维池化层（ ``MaxPool2D`` ），和两个线性变换层组成的分类网络，来把一个(32, 32, 3)形状的图片通过卷积神经网络映射为10个输出，这对应着10个分类的类别。"
   ]
  },
  {
   "cell_type": "code",
   "execution_count": 4,
   "metadata": {},
   "outputs": [],
   "source": [
    "class MyNet(paddle.nn.Layer):\n",
    "    def __init__(self, num_classes=1):\n",
    "        super(MyNet, self).__init__()\n",
    "\n",
    "        self.conv1 = paddle.nn.Conv2D(in_channels=3, out_channels=32, kernel_size=(3, 3))\n",
    "        self.pool1 = paddle.nn.MaxPool2D(kernel_size=2, stride=2)\n",
    "\n",
    "        self.conv2 = paddle.nn.Conv2D(in_channels=32, out_channels=64, kernel_size=(3,3))\n",
    "        self.pool2 = paddle.nn.MaxPool2D(kernel_size=2, stride=2)\n",
    "\n",
    "        self.conv3 = paddle.nn.Conv2D(in_channels=64, out_channels=64, kernel_size=(3,3))\n",
    "\n",
    "        self.flatten = paddle.nn.Flatten()\n",
    "\n",
    "        self.linear1 = paddle.nn.Linear(in_features=1024, out_features=64)\n",
    "        self.linear2 = paddle.nn.Linear(in_features=64, out_features=num_classes)\n",
    "\n",
    "    def forward(self, x):\n",
    "        x = self.conv1(x)\n",
    "        x = F.relu(x)\n",
    "        x = self.pool1(x)\n",
    "\n",
    "        x = self.conv2(x)\n",
    "        x = F.relu(x)\n",
    "        x = self.pool2(x)\n",
    "\n",
    "        x = self.conv3(x)\n",
    "        x = F.relu(x)\n",
    "\n",
    "        x = self.flatten(x)\n",
    "        x = self.linear1(x)\n",
    "        x = F.relu(x)\n",
    "        x = self.linear2(x)\n",
    "        return x"
   ]
  },
  {
   "cell_type": "markdown",
   "metadata": {},
   "source": [
    "## 四、模型训练&预测\n",
    "\n",
    "接下来，我们用一个循环来进行模型的训练，我们将会: <br> \n",
    "- 使用 ``paddle.optimizer.Adam`` 优化器来进行优化。 \n",
    "- 使用 ``F.cross_entropy`` 来计算损失值。 \n",
    "- 使用 ``paddle.io.DataLoader`` 来加载数据并组建batch。"
   ]
  },
  {
   "cell_type": "code",
   "execution_count": 5,
   "metadata": {},
   "outputs": [],
   "source": [
    "epoch_num = 10\n",
    "batch_size = 8#32\n",
    "learning_rate = 0.001"
   ]
  },
  {
   "cell_type": "code",
   "execution_count": 6,
   "metadata": {},
   "outputs": [
    {
     "name": "stderr",
     "output_type": "stream",
     "text": [
      "W0706 21:54:49.549937 106432 gpu_context.cc:278] Please NOTE: device: 0, GPU Compute Capability: 8.6, Driver API Version: 11.6, Runtime API Version: 11.2\n",
      "W0706 21:54:49.552465 106432 gpu_context.cc:306] device: 0, cuDNN Version: 8.1.\n"
     ]
    },
    {
     "name": "stdout",
     "output_type": "stream",
     "text": [
      "start training ... \n",
      "epoch: 0, batch_id: 0, loss is: [2.6830182]\n",
      "epoch: 0, batch_id: 1000, loss is: [1.3301767]\n",
      "epoch: 0, batch_id: 2000, loss is: [1.7075245]\n",
      "epoch: 0, batch_id: 3000, loss is: [1.4520324]\n",
      "epoch: 0, batch_id: 4000, loss is: [0.6916052]\n",
      "epoch: 0, batch_id: 5000, loss is: [1.6117835]\n",
      "epoch: 0, batch_id: 6000, loss is: [1.257216]\n",
      "[validation] accuracy/loss: 0.5918999910354614/1.1577681303024292\n",
      "epoch: 1, batch_id: 0, loss is: [1.1713035]\n",
      "epoch: 1, batch_id: 1000, loss is: [0.93365043]\n",
      "epoch: 1, batch_id: 2000, loss is: [0.70762986]\n",
      "epoch: 1, batch_id: 3000, loss is: [1.5717516]\n",
      "epoch: 1, batch_id: 4000, loss is: [1.2169836]\n",
      "epoch: 1, batch_id: 5000, loss is: [0.3875277]\n",
      "epoch: 1, batch_id: 6000, loss is: [0.96915764]\n",
      "[validation] accuracy/loss: 0.6517999768257141/0.9920013546943665\n",
      "epoch: 2, batch_id: 0, loss is: [0.89567053]\n",
      "epoch: 2, batch_id: 1000, loss is: [0.8878478]\n",
      "epoch: 2, batch_id: 2000, loss is: [0.9388771]\n",
      "epoch: 2, batch_id: 3000, loss is: [1.0734358]\n",
      "epoch: 2, batch_id: 4000, loss is: [1.3120409]\n",
      "epoch: 2, batch_id: 5000, loss is: [0.7415749]\n",
      "epoch: 2, batch_id: 6000, loss is: [1.2792096]\n",
      "[validation] accuracy/loss: 0.6736000180244446/0.9215923547744751\n",
      "epoch: 3, batch_id: 0, loss is: [0.91276515]\n",
      "epoch: 3, batch_id: 1000, loss is: [0.8379423]\n",
      "epoch: 3, batch_id: 2000, loss is: [0.64768744]\n",
      "epoch: 3, batch_id: 3000, loss is: [0.76769984]\n",
      "epoch: 3, batch_id: 4000, loss is: [1.5364484]\n",
      "epoch: 3, batch_id: 5000, loss is: [0.5107945]\n",
      "epoch: 3, batch_id: 6000, loss is: [1.414237]\n",
      "[validation] accuracy/loss: 0.6829000115394592/0.9092759490013123\n",
      "epoch: 4, batch_id: 0, loss is: [0.79953814]\n",
      "epoch: 4, batch_id: 1000, loss is: [0.9621695]\n",
      "epoch: 4, batch_id: 2000, loss is: [0.350132]\n",
      "epoch: 4, batch_id: 3000, loss is: [0.25324175]\n",
      "epoch: 4, batch_id: 4000, loss is: [0.68666995]\n",
      "epoch: 4, batch_id: 5000, loss is: [1.0935799]\n",
      "epoch: 4, batch_id: 6000, loss is: [1.6404328]\n",
      "[validation] accuracy/loss: 0.6869000196456909/0.9173370003700256\n",
      "epoch: 5, batch_id: 0, loss is: [0.37560397]\n",
      "epoch: 5, batch_id: 1000, loss is: [0.48919022]\n",
      "epoch: 5, batch_id: 2000, loss is: [0.91789883]\n",
      "epoch: 5, batch_id: 3000, loss is: [0.35563076]\n",
      "epoch: 5, batch_id: 4000, loss is: [0.47138262]\n",
      "epoch: 5, batch_id: 5000, loss is: [0.6209574]\n",
      "epoch: 5, batch_id: 6000, loss is: [2.0460505]\n",
      "[validation] accuracy/loss: 0.6927000284194946/0.927067756652832\n",
      "epoch: 6, batch_id: 0, loss is: [0.54720104]\n",
      "epoch: 6, batch_id: 1000, loss is: [0.6822617]\n",
      "epoch: 6, batch_id: 2000, loss is: [0.44141263]\n",
      "epoch: 6, batch_id: 3000, loss is: [0.3726734]\n",
      "epoch: 6, batch_id: 4000, loss is: [0.49338746]\n",
      "epoch: 6, batch_id: 5000, loss is: [0.65081716]\n",
      "epoch: 6, batch_id: 6000, loss is: [0.31959826]\n",
      "[validation] accuracy/loss: 0.6930999755859375/0.925507128238678\n",
      "epoch: 7, batch_id: 0, loss is: [0.457954]\n",
      "epoch: 7, batch_id: 1000, loss is: [1.3683732]\n",
      "epoch: 7, batch_id: 2000, loss is: [0.861019]\n",
      "epoch: 7, batch_id: 3000, loss is: [0.8000466]\n",
      "epoch: 7, batch_id: 4000, loss is: [0.11273859]\n",
      "epoch: 7, batch_id: 5000, loss is: [0.08414932]\n",
      "epoch: 7, batch_id: 6000, loss is: [0.29601926]\n",
      "[validation] accuracy/loss: 0.7005000114440918/0.9527645707130432\n",
      "epoch: 8, batch_id: 0, loss is: [0.67527616]\n",
      "epoch: 8, batch_id: 1000, loss is: [0.3377218]\n",
      "epoch: 8, batch_id: 2000, loss is: [0.63399816]\n",
      "epoch: 8, batch_id: 3000, loss is: [0.24524981]\n",
      "epoch: 8, batch_id: 4000, loss is: [0.10973642]\n",
      "epoch: 8, batch_id: 5000, loss is: [1.3270167]\n",
      "epoch: 8, batch_id: 6000, loss is: [0.2631057]\n",
      "[validation] accuracy/loss: 0.7046999931335449/0.9492891430854797\n",
      "epoch: 9, batch_id: 0, loss is: [0.70223045]\n",
      "epoch: 9, batch_id: 1000, loss is: [0.25397307]\n",
      "epoch: 9, batch_id: 2000, loss is: [0.17079356]\n",
      "epoch: 9, batch_id: 3000, loss is: [0.30833623]\n",
      "epoch: 9, batch_id: 4000, loss is: [0.777333]\n",
      "epoch: 9, batch_id: 5000, loss is: [0.50091946]\n",
      "epoch: 9, batch_id: 6000, loss is: [0.37725225]\n",
      "[validation] accuracy/loss: 0.6836000084877014/1.0229345560073853\n"
     ]
    }
   ],
   "source": [
    "val_acc_history = []\n",
    "val_loss_history = []\n",
    "\n",
    "def train(model):\n",
    "    print('start training ... ')\n",
    "    # turn into training mode\n",
    "    model.train()\n",
    "\n",
    "    opt = paddle.optimizer.Adam(learning_rate=learning_rate,\n",
    "                                parameters=model.parameters())\n",
    "\n",
    "    train_loader = paddle.io.DataLoader(cifar10_train,\n",
    "                                        shuffle=True,\n",
    "                                        batch_size=batch_size)\n",
    "\n",
    "    valid_loader = paddle.io.DataLoader(cifar10_test, batch_size=batch_size)\n",
    "\n",
    "    for epoch in range(epoch_num):\n",
    "        for batch_id, data in enumerate(train_loader()):\n",
    "            x_data = data[0]\n",
    "            y_data = paddle.to_tensor(data[1])\n",
    "            y_data = paddle.unsqueeze(y_data, 1)\n",
    "\n",
    "            logits = model(x_data)\n",
    "            loss = F.cross_entropy(logits, y_data)\n",
    "\n",
    "            if batch_id % 1000 == 0:\n",
    "                print(\"epoch: {}, batch_id: {}, loss is: {}\".format(epoch, batch_id, loss.numpy()))\n",
    "            loss.backward()\n",
    "            opt.step()\n",
    "            opt.clear_grad()\n",
    "\n",
    "        # evaluate model after one epoch\n",
    "        model.eval()\n",
    "        accuracies = []\n",
    "        losses = []\n",
    "        for batch_id, data in enumerate(valid_loader()):\n",
    "            x_data = data[0]\n",
    "            y_data = paddle.to_tensor(data[1])\n",
    "            y_data = paddle.unsqueeze(y_data, 1)\n",
    "\n",
    "            logits = model(x_data)\n",
    "            loss = F.cross_entropy(logits, y_data)\n",
    "            acc = paddle.metric.accuracy(logits, y_data)\n",
    "            accuracies.append(acc.numpy())\n",
    "            losses.append(loss.numpy())\n",
    "\n",
    "        avg_acc, avg_loss = np.mean(accuracies), np.mean(losses)\n",
    "        print(\"[validation] accuracy/loss: {}/{}\".format(avg_acc, avg_loss))\n",
    "        val_acc_history.append(avg_acc)\n",
    "        val_loss_history.append(avg_loss)\n",
    "        model.train()\n",
    "\n",
    "model = MyNet(num_classes=10)\n",
    "train(model)"
   ]
  },
  {
   "cell_type": "code",
   "execution_count": 7,
   "metadata": {},
   "outputs": [
    {
     "data": {
      "text/plain": "<matplotlib.legend.Legend at 0x7f445720bd60>"
     },
     "execution_count": 7,
     "metadata": {},
     "output_type": "execute_result"
    },
    {
     "data": {
      "text/plain": "<Figure size 432x288 with 1 Axes>",
      "image/png": "[encoded data removed]"
     },
     "metadata": {
      "needs_background": "light"
     },
     "output_type": "display_data"
    }
   ],
   "source": [
    "plt.plot(val_acc_history, label = 'validation accuracy')\n",
    "\n",
    "plt.xlabel('Epoch')\n",
    "plt.ylabel('Accuracy')\n",
    "plt.ylim([0.5, 0.8])\n",
    "plt.legend(loc='lower right')"
   ]
  },
  {
   "cell_type": "markdown",
   "metadata": {},
   "source": [
    "## The End\n",
    "从上面的示例可以看到，在cifar10数据集上，使用简单的卷积神经网络，用飞桨可以达到70%以上的准确率。你也可以通过调整网络结构和参数，达到更好的效果。"
   ]
  }
 ],
 "metadata": {
  "kernelspec": {
   "display_name": "Python 3",
   "language": "python",
   "name": "python3"
  },
  "language_info": {
   "codemirror_mode": {
    "name": "ipython",
    "version": 3
   },
   "file_extension": ".py",
   "mimetype": "text/x-python",
   "name": "python",
   "nbconvert_exporter": "python",
   "pygments_lexer": "ipython3",
   "version": "3.7.7"
  }
 },
 "nbformat": 4,
 "nbformat_minor": 4
}